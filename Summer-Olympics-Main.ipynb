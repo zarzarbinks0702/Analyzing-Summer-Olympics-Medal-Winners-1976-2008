{
 "cells": [
  {
   "cell_type": "code",
   "execution_count": 1,
   "metadata": {},
   "outputs": [],
   "source": [
    "#import dependencies\n",
    "import pandas as pd\n",
    "import matplotlib.pyplot as plt\n",
    "import numpy as np\n",
    "import scipy as sp\n",
    "import requests\n",
    "import json"
   ]
  },
  {
   "cell_type": "code",
   "execution_count": 2,
   "metadata": {},
   "outputs": [
    {
     "data": {
      "text/html": [
       "<div>\n",
       "<style scoped>\n",
       "    .dataframe tbody tr th:only-of-type {\n",
       "        vertical-align: middle;\n",
       "    }\n",
       "\n",
       "    .dataframe tbody tr th {\n",
       "        vertical-align: top;\n",
       "    }\n",
       "\n",
       "    .dataframe thead th {\n",
       "        text-align: right;\n",
       "    }\n",
       "</style>\n",
       "<table border=\"1\" class=\"dataframe\">\n",
       "  <thead>\n",
       "    <tr style=\"text-align: right;\">\n",
       "      <th></th>\n",
       "      <th>City</th>\n",
       "      <th>Year</th>\n",
       "      <th>Sport</th>\n",
       "      <th>Discipline</th>\n",
       "      <th>Event</th>\n",
       "      <th>Athlete</th>\n",
       "      <th>Gender</th>\n",
       "      <th>Country_Code</th>\n",
       "      <th>Country</th>\n",
       "      <th>Event_gender</th>\n",
       "      <th>Medal</th>\n",
       "    </tr>\n",
       "  </thead>\n",
       "  <tbody>\n",
       "    <tr>\n",
       "      <th>0</th>\n",
       "      <td>Montreal</td>\n",
       "      <td>1976.0</td>\n",
       "      <td>Aquatics</td>\n",
       "      <td>Diving</td>\n",
       "      <td>3m springboard</td>\n",
       "      <td>KÖHLER, Christa</td>\n",
       "      <td>Women</td>\n",
       "      <td>GDR</td>\n",
       "      <td>East Germany</td>\n",
       "      <td>W</td>\n",
       "      <td>Silver</td>\n",
       "    </tr>\n",
       "    <tr>\n",
       "      <th>1</th>\n",
       "      <td>Montreal</td>\n",
       "      <td>1976.0</td>\n",
       "      <td>Aquatics</td>\n",
       "      <td>Diving</td>\n",
       "      <td>3m springboard</td>\n",
       "      <td>KOSENKOV, Aleksandr</td>\n",
       "      <td>Men</td>\n",
       "      <td>URS</td>\n",
       "      <td>Soviet Union</td>\n",
       "      <td>M</td>\n",
       "      <td>Bronze</td>\n",
       "    </tr>\n",
       "    <tr>\n",
       "      <th>2</th>\n",
       "      <td>Montreal</td>\n",
       "      <td>1976.0</td>\n",
       "      <td>Aquatics</td>\n",
       "      <td>Diving</td>\n",
       "      <td>3m springboard</td>\n",
       "      <td>BOGGS, Philip George</td>\n",
       "      <td>Men</td>\n",
       "      <td>USA</td>\n",
       "      <td>United States</td>\n",
       "      <td>M</td>\n",
       "      <td>Gold</td>\n",
       "    </tr>\n",
       "    <tr>\n",
       "      <th>3</th>\n",
       "      <td>Montreal</td>\n",
       "      <td>1976.0</td>\n",
       "      <td>Aquatics</td>\n",
       "      <td>Diving</td>\n",
       "      <td>3m springboard</td>\n",
       "      <td>CAGNOTTO, Giorgio Franco</td>\n",
       "      <td>Men</td>\n",
       "      <td>ITA</td>\n",
       "      <td>Italy</td>\n",
       "      <td>M</td>\n",
       "      <td>Silver</td>\n",
       "    </tr>\n",
       "    <tr>\n",
       "      <th>4</th>\n",
       "      <td>Montreal</td>\n",
       "      <td>1976.0</td>\n",
       "      <td>Aquatics</td>\n",
       "      <td>Diving</td>\n",
       "      <td>10m platform</td>\n",
       "      <td>WILSON, Deborah Keplar</td>\n",
       "      <td>Women</td>\n",
       "      <td>USA</td>\n",
       "      <td>United States</td>\n",
       "      <td>W</td>\n",
       "      <td>Bronze</td>\n",
       "    </tr>\n",
       "  </tbody>\n",
       "</table>\n",
       "</div>"
      ],
      "text/plain": [
       "       City    Year     Sport Discipline           Event  \\\n",
       "0  Montreal  1976.0  Aquatics     Diving  3m springboard   \n",
       "1  Montreal  1976.0  Aquatics     Diving  3m springboard   \n",
       "2  Montreal  1976.0  Aquatics     Diving  3m springboard   \n",
       "3  Montreal  1976.0  Aquatics     Diving  3m springboard   \n",
       "4  Montreal  1976.0  Aquatics     Diving    10m platform   \n",
       "\n",
       "                    Athlete Gender Country_Code        Country Event_gender  \\\n",
       "0           KÖHLER, Christa  Women          GDR   East Germany            W   \n",
       "1       KOSENKOV, Aleksandr    Men          URS   Soviet Union            M   \n",
       "2      BOGGS, Philip George    Men          USA  United States            M   \n",
       "3  CAGNOTTO, Giorgio Franco    Men          ITA          Italy            M   \n",
       "4    WILSON, Deborah Keplar  Women          USA  United States            W   \n",
       "\n",
       "    Medal  \n",
       "0  Silver  \n",
       "1  Bronze  \n",
       "2    Gold  \n",
       "3  Silver  \n",
       "4  Bronze  "
      ]
     },
     "execution_count": 2,
     "metadata": {},
     "output_type": "execute_result"
    }
   ],
   "source": [
    "#load in csv\n",
    "olympics_data = pd.read_csv(\"Summer-Olympic-medals-1976-to-2008.csv\", encoding=\"latin-1\")\n",
    "olympics_data.head()"
   ]
  },
  {
   "cell_type": "code",
   "execution_count": 3,
   "metadata": {},
   "outputs": [],
   "source": [
    "medal_dict = {'Gold':3,'Silver':2,'Bronze':1}\n",
    "olympics_data['Points'] = olympics_data['Medal'].map(medal_dict)"
   ]
  },
  {
   "cell_type": "code",
   "execution_count": 4,
   "metadata": {},
   "outputs": [
    {
     "data": {
      "text/html": [
       "<div>\n",
       "<style scoped>\n",
       "    .dataframe tbody tr th:only-of-type {\n",
       "        vertical-align: middle;\n",
       "    }\n",
       "\n",
       "    .dataframe tbody tr th {\n",
       "        vertical-align: top;\n",
       "    }\n",
       "\n",
       "    .dataframe thead th {\n",
       "        text-align: right;\n",
       "    }\n",
       "</style>\n",
       "<table border=\"1\" class=\"dataframe\">\n",
       "  <thead>\n",
       "    <tr style=\"text-align: right;\">\n",
       "      <th></th>\n",
       "      <th>City</th>\n",
       "      <th>Year</th>\n",
       "      <th>Sport</th>\n",
       "      <th>Discipline</th>\n",
       "      <th>Event</th>\n",
       "      <th>Athlete</th>\n",
       "      <th>Gender</th>\n",
       "      <th>Country_Code</th>\n",
       "      <th>Country</th>\n",
       "      <th>Event_gender</th>\n",
       "      <th>Medal</th>\n",
       "      <th>Points</th>\n",
       "    </tr>\n",
       "  </thead>\n",
       "  <tbody>\n",
       "    <tr>\n",
       "      <th>0</th>\n",
       "      <td>Montreal</td>\n",
       "      <td>1976.0</td>\n",
       "      <td>Aquatics</td>\n",
       "      <td>Diving</td>\n",
       "      <td>3m springboard</td>\n",
       "      <td>KÖHLER, Christa</td>\n",
       "      <td>Women</td>\n",
       "      <td>GDR</td>\n",
       "      <td>East Germany</td>\n",
       "      <td>W</td>\n",
       "      <td>Silver</td>\n",
       "      <td>2.0</td>\n",
       "    </tr>\n",
       "    <tr>\n",
       "      <th>1</th>\n",
       "      <td>Montreal</td>\n",
       "      <td>1976.0</td>\n",
       "      <td>Aquatics</td>\n",
       "      <td>Diving</td>\n",
       "      <td>3m springboard</td>\n",
       "      <td>KOSENKOV, Aleksandr</td>\n",
       "      <td>Men</td>\n",
       "      <td>URS</td>\n",
       "      <td>Soviet Union</td>\n",
       "      <td>M</td>\n",
       "      <td>Bronze</td>\n",
       "      <td>1.0</td>\n",
       "    </tr>\n",
       "    <tr>\n",
       "      <th>2</th>\n",
       "      <td>Montreal</td>\n",
       "      <td>1976.0</td>\n",
       "      <td>Aquatics</td>\n",
       "      <td>Diving</td>\n",
       "      <td>3m springboard</td>\n",
       "      <td>BOGGS, Philip George</td>\n",
       "      <td>Men</td>\n",
       "      <td>USA</td>\n",
       "      <td>United States</td>\n",
       "      <td>M</td>\n",
       "      <td>Gold</td>\n",
       "      <td>3.0</td>\n",
       "    </tr>\n",
       "    <tr>\n",
       "      <th>3</th>\n",
       "      <td>Montreal</td>\n",
       "      <td>1976.0</td>\n",
       "      <td>Aquatics</td>\n",
       "      <td>Diving</td>\n",
       "      <td>3m springboard</td>\n",
       "      <td>CAGNOTTO, Giorgio Franco</td>\n",
       "      <td>Men</td>\n",
       "      <td>ITA</td>\n",
       "      <td>Italy</td>\n",
       "      <td>M</td>\n",
       "      <td>Silver</td>\n",
       "      <td>2.0</td>\n",
       "    </tr>\n",
       "    <tr>\n",
       "      <th>4</th>\n",
       "      <td>Montreal</td>\n",
       "      <td>1976.0</td>\n",
       "      <td>Aquatics</td>\n",
       "      <td>Diving</td>\n",
       "      <td>10m platform</td>\n",
       "      <td>WILSON, Deborah Keplar</td>\n",
       "      <td>Women</td>\n",
       "      <td>USA</td>\n",
       "      <td>United States</td>\n",
       "      <td>W</td>\n",
       "      <td>Bronze</td>\n",
       "      <td>1.0</td>\n",
       "    </tr>\n",
       "    <tr>\n",
       "      <th>...</th>\n",
       "      <td>...</td>\n",
       "      <td>...</td>\n",
       "      <td>...</td>\n",
       "      <td>...</td>\n",
       "      <td>...</td>\n",
       "      <td>...</td>\n",
       "      <td>...</td>\n",
       "      <td>...</td>\n",
       "      <td>...</td>\n",
       "      <td>...</td>\n",
       "      <td>...</td>\n",
       "      <td>...</td>\n",
       "    </tr>\n",
       "    <tr>\n",
       "      <th>15428</th>\n",
       "      <td>Beijing</td>\n",
       "      <td>2008.0</td>\n",
       "      <td>Wrestling</td>\n",
       "      <td>Wrestling Gre-R</td>\n",
       "      <td>66 - 74kg</td>\n",
       "      <td>GUENOT, Christophe</td>\n",
       "      <td>Men</td>\n",
       "      <td>FRA</td>\n",
       "      <td>France</td>\n",
       "      <td>M</td>\n",
       "      <td>Bronze</td>\n",
       "      <td>1.0</td>\n",
       "    </tr>\n",
       "    <tr>\n",
       "      <th>15429</th>\n",
       "      <td>Beijing</td>\n",
       "      <td>2008.0</td>\n",
       "      <td>Wrestling</td>\n",
       "      <td>Wrestling Gre-R</td>\n",
       "      <td>66 - 74kg</td>\n",
       "      <td>KVIRKELIA, Manuchar</td>\n",
       "      <td>Men</td>\n",
       "      <td>GEO</td>\n",
       "      <td>Georgia</td>\n",
       "      <td>M</td>\n",
       "      <td>Gold</td>\n",
       "      <td>3.0</td>\n",
       "    </tr>\n",
       "    <tr>\n",
       "      <th>15430</th>\n",
       "      <td>Beijing</td>\n",
       "      <td>2008.0</td>\n",
       "      <td>Wrestling</td>\n",
       "      <td>Wrestling Gre-R</td>\n",
       "      <td>55 - 60kg</td>\n",
       "      <td>RAHIMOV, Vitaliy</td>\n",
       "      <td>Men</td>\n",
       "      <td>AZE</td>\n",
       "      <td>Azerbaijan</td>\n",
       "      <td>M</td>\n",
       "      <td>Silver</td>\n",
       "      <td>2.0</td>\n",
       "    </tr>\n",
       "    <tr>\n",
       "      <th>15431</th>\n",
       "      <td>Beijing</td>\n",
       "      <td>2008.0</td>\n",
       "      <td>Wrestling</td>\n",
       "      <td>Wrestling Gre-R</td>\n",
       "      <td>60 - 66kg</td>\n",
       "      <td>GUENOT, Steeve</td>\n",
       "      <td>Men</td>\n",
       "      <td>FRA</td>\n",
       "      <td>France</td>\n",
       "      <td>M</td>\n",
       "      <td>Gold</td>\n",
       "      <td>3.0</td>\n",
       "    </tr>\n",
       "    <tr>\n",
       "      <th>15432</th>\n",
       "      <td>Beijing</td>\n",
       "      <td>2008.0</td>\n",
       "      <td>Wrestling</td>\n",
       "      <td>Wrestling Gre-R</td>\n",
       "      <td>96 - 120kg</td>\n",
       "      <td>LOPEZ, Mijain</td>\n",
       "      <td>Men</td>\n",
       "      <td>CUB</td>\n",
       "      <td>Cuba</td>\n",
       "      <td>M</td>\n",
       "      <td>Gold</td>\n",
       "      <td>3.0</td>\n",
       "    </tr>\n",
       "  </tbody>\n",
       "</table>\n",
       "<p>15433 rows × 12 columns</p>\n",
       "</div>"
      ],
      "text/plain": [
       "           City    Year      Sport       Discipline           Event  \\\n",
       "0      Montreal  1976.0   Aquatics           Diving  3m springboard   \n",
       "1      Montreal  1976.0   Aquatics           Diving  3m springboard   \n",
       "2      Montreal  1976.0   Aquatics           Diving  3m springboard   \n",
       "3      Montreal  1976.0   Aquatics           Diving  3m springboard   \n",
       "4      Montreal  1976.0   Aquatics           Diving    10m platform   \n",
       "...         ...     ...        ...              ...             ...   \n",
       "15428   Beijing  2008.0  Wrestling  Wrestling Gre-R       66 - 74kg   \n",
       "15429   Beijing  2008.0  Wrestling  Wrestling Gre-R       66 - 74kg   \n",
       "15430   Beijing  2008.0  Wrestling  Wrestling Gre-R       55 - 60kg   \n",
       "15431   Beijing  2008.0  Wrestling  Wrestling Gre-R       60 - 66kg   \n",
       "15432   Beijing  2008.0  Wrestling  Wrestling Gre-R      96 - 120kg   \n",
       "\n",
       "                        Athlete Gender Country_Code        Country  \\\n",
       "0               KÖHLER, Christa  Women          GDR   East Germany   \n",
       "1           KOSENKOV, Aleksandr    Men          URS   Soviet Union   \n",
       "2          BOGGS, Philip George    Men          USA  United States   \n",
       "3      CAGNOTTO, Giorgio Franco    Men          ITA          Italy   \n",
       "4        WILSON, Deborah Keplar  Women          USA  United States   \n",
       "...                         ...    ...          ...            ...   \n",
       "15428        GUENOT, Christophe    Men          FRA         France   \n",
       "15429       KVIRKELIA, Manuchar    Men          GEO        Georgia   \n",
       "15430          RAHIMOV, Vitaliy    Men          AZE     Azerbaijan   \n",
       "15431            GUENOT, Steeve    Men          FRA         France   \n",
       "15432             LOPEZ, Mijain    Men          CUB           Cuba   \n",
       "\n",
       "      Event_gender   Medal  Points  \n",
       "0                W  Silver     2.0  \n",
       "1                M  Bronze     1.0  \n",
       "2                M    Gold     3.0  \n",
       "3                M  Silver     2.0  \n",
       "4                W  Bronze     1.0  \n",
       "...            ...     ...     ...  \n",
       "15428            M  Bronze     1.0  \n",
       "15429            M    Gold     3.0  \n",
       "15430            M  Silver     2.0  \n",
       "15431            M    Gold     3.0  \n",
       "15432            M    Gold     3.0  \n",
       "\n",
       "[15433 rows x 12 columns]"
      ]
     },
     "execution_count": 4,
     "metadata": {},
     "output_type": "execute_result"
    }
   ],
   "source": [
    "olympics_data"
   ]
  },
  {
   "cell_type": "markdown",
   "metadata": {},
   "source": [
    "# Country Performance \n",
    " (Weighted by Medal Points)\n"
   ]
  },
  {
   "cell_type": "code",
   "execution_count": 5,
   "metadata": {},
   "outputs": [
    {
     "data": {
      "text/plain": [
       "<pandas.core.groupby.generic.DataFrameGroupBy object at 0x09068BF0>"
      ]
     },
     "execution_count": 5,
     "metadata": {},
     "output_type": "execute_result"
    }
   ],
   "source": [
    "# Groupby Country & Sport\n",
    "\n",
    "medals_x_country_sp = olympics_data.groupby(['Country', 'Sport'])\n",
    "\n",
    "medals_x_country_sp"
   ]
  },
  {
   "cell_type": "code",
   "execution_count": 6,
   "metadata": {},
   "outputs": [
    {
     "data": {
      "text/html": [
       "<div>\n",
       "<style scoped>\n",
       "    .dataframe tbody tr th:only-of-type {\n",
       "        vertical-align: middle;\n",
       "    }\n",
       "\n",
       "    .dataframe tbody tr th {\n",
       "        vertical-align: top;\n",
       "    }\n",
       "\n",
       "    .dataframe thead tr th {\n",
       "        text-align: left;\n",
       "    }\n",
       "\n",
       "    .dataframe thead tr:last-of-type th {\n",
       "        text-align: right;\n",
       "    }\n",
       "</style>\n",
       "<table border=\"1\" class=\"dataframe\">\n",
       "  <thead>\n",
       "    <tr>\n",
       "      <th></th>\n",
       "      <th></th>\n",
       "      <th colspan=\"8\" halign=\"left\">Year</th>\n",
       "      <th colspan=\"8\" halign=\"left\">Points</th>\n",
       "    </tr>\n",
       "    <tr>\n",
       "      <th></th>\n",
       "      <th></th>\n",
       "      <th>count</th>\n",
       "      <th>mean</th>\n",
       "      <th>std</th>\n",
       "      <th>min</th>\n",
       "      <th>25%</th>\n",
       "      <th>50%</th>\n",
       "      <th>75%</th>\n",
       "      <th>max</th>\n",
       "      <th>count</th>\n",
       "      <th>mean</th>\n",
       "      <th>std</th>\n",
       "      <th>min</th>\n",
       "      <th>25%</th>\n",
       "      <th>50%</th>\n",
       "      <th>75%</th>\n",
       "      <th>max</th>\n",
       "    </tr>\n",
       "    <tr>\n",
       "      <th>Country</th>\n",
       "      <th>Sport</th>\n",
       "      <th></th>\n",
       "      <th></th>\n",
       "      <th></th>\n",
       "      <th></th>\n",
       "      <th></th>\n",
       "      <th></th>\n",
       "      <th></th>\n",
       "      <th></th>\n",
       "      <th></th>\n",
       "      <th></th>\n",
       "      <th></th>\n",
       "      <th></th>\n",
       "      <th></th>\n",
       "      <th></th>\n",
       "      <th></th>\n",
       "      <th></th>\n",
       "    </tr>\n",
       "  </thead>\n",
       "  <tbody>\n",
       "    <tr>\n",
       "      <th>Afghanistan</th>\n",
       "      <th>Taekwondo</th>\n",
       "      <td>1.0</td>\n",
       "      <td>2008.000000</td>\n",
       "      <td>NaN</td>\n",
       "      <td>2008.0</td>\n",
       "      <td>2008.0</td>\n",
       "      <td>2008.0</td>\n",
       "      <td>2008.0</td>\n",
       "      <td>2008.0</td>\n",
       "      <td>1.0</td>\n",
       "      <td>1.000000</td>\n",
       "      <td>NaN</td>\n",
       "      <td>1.0</td>\n",
       "      <td>1.00</td>\n",
       "      <td>1.0</td>\n",
       "      <td>1.00</td>\n",
       "      <td>1.0</td>\n",
       "    </tr>\n",
       "    <tr>\n",
       "      <th rowspan=\"3\" valign=\"top\">Algeria</th>\n",
       "      <th>Athletics</th>\n",
       "      <td>6.0</td>\n",
       "      <td>1998.000000</td>\n",
       "      <td>3.346640</td>\n",
       "      <td>1992.0</td>\n",
       "      <td>1997.0</td>\n",
       "      <td>2000.0</td>\n",
       "      <td>2000.0</td>\n",
       "      <td>2000.0</td>\n",
       "      <td>6.0</td>\n",
       "      <td>2.166667</td>\n",
       "      <td>0.983192</td>\n",
       "      <td>1.0</td>\n",
       "      <td>1.25</td>\n",
       "      <td>2.5</td>\n",
       "      <td>3.00</td>\n",
       "      <td>3.0</td>\n",
       "    </tr>\n",
       "    <tr>\n",
       "      <th>Boxing</th>\n",
       "      <td>6.0</td>\n",
       "      <td>1992.000000</td>\n",
       "      <td>6.693280</td>\n",
       "      <td>1984.0</td>\n",
       "      <td>1986.0</td>\n",
       "      <td>1994.0</td>\n",
       "      <td>1996.0</td>\n",
       "      <td>2000.0</td>\n",
       "      <td>6.0</td>\n",
       "      <td>1.333333</td>\n",
       "      <td>0.816497</td>\n",
       "      <td>1.0</td>\n",
       "      <td>1.00</td>\n",
       "      <td>1.0</td>\n",
       "      <td>1.00</td>\n",
       "      <td>3.0</td>\n",
       "    </tr>\n",
       "    <tr>\n",
       "      <th>Judo</th>\n",
       "      <td>2.0</td>\n",
       "      <td>2008.000000</td>\n",
       "      <td>0.000000</td>\n",
       "      <td>2008.0</td>\n",
       "      <td>2008.0</td>\n",
       "      <td>2008.0</td>\n",
       "      <td>2008.0</td>\n",
       "      <td>2008.0</td>\n",
       "      <td>2.0</td>\n",
       "      <td>1.500000</td>\n",
       "      <td>0.707107</td>\n",
       "      <td>1.0</td>\n",
       "      <td>1.25</td>\n",
       "      <td>1.5</td>\n",
       "      <td>1.75</td>\n",
       "      <td>2.0</td>\n",
       "    </tr>\n",
       "    <tr>\n",
       "      <th>Argentina</th>\n",
       "      <th>Aquatics</th>\n",
       "      <td>1.0</td>\n",
       "      <td>2004.000000</td>\n",
       "      <td>NaN</td>\n",
       "      <td>2004.0</td>\n",
       "      <td>2004.0</td>\n",
       "      <td>2004.0</td>\n",
       "      <td>2004.0</td>\n",
       "      <td>2004.0</td>\n",
       "      <td>1.0</td>\n",
       "      <td>1.000000</td>\n",
       "      <td>NaN</td>\n",
       "      <td>1.0</td>\n",
       "      <td>1.00</td>\n",
       "      <td>1.0</td>\n",
       "      <td>1.00</td>\n",
       "      <td>1.0</td>\n",
       "    </tr>\n",
       "    <tr>\n",
       "      <th>...</th>\n",
       "      <th>...</th>\n",
       "      <td>...</td>\n",
       "      <td>...</td>\n",
       "      <td>...</td>\n",
       "      <td>...</td>\n",
       "      <td>...</td>\n",
       "      <td>...</td>\n",
       "      <td>...</td>\n",
       "      <td>...</td>\n",
       "      <td>...</td>\n",
       "      <td>...</td>\n",
       "      <td>...</td>\n",
       "      <td>...</td>\n",
       "      <td>...</td>\n",
       "      <td>...</td>\n",
       "      <td>...</td>\n",
       "      <td>...</td>\n",
       "    </tr>\n",
       "    <tr>\n",
       "      <th>Yugoslavia</th>\n",
       "      <th>Wrestling</th>\n",
       "      <td>9.0</td>\n",
       "      <td>1982.222222</td>\n",
       "      <td>4.055175</td>\n",
       "      <td>1976.0</td>\n",
       "      <td>1980.0</td>\n",
       "      <td>1984.0</td>\n",
       "      <td>1984.0</td>\n",
       "      <td>1988.0</td>\n",
       "      <td>9.0</td>\n",
       "      <td>2.000000</td>\n",
       "      <td>0.866025</td>\n",
       "      <td>1.0</td>\n",
       "      <td>1.00</td>\n",
       "      <td>2.0</td>\n",
       "      <td>3.00</td>\n",
       "      <td>3.0</td>\n",
       "    </tr>\n",
       "    <tr>\n",
       "      <th rowspan=\"2\" valign=\"top\">Zambia</th>\n",
       "      <th>Athletics</th>\n",
       "      <td>1.0</td>\n",
       "      <td>1996.000000</td>\n",
       "      <td>NaN</td>\n",
       "      <td>1996.0</td>\n",
       "      <td>1996.0</td>\n",
       "      <td>1996.0</td>\n",
       "      <td>1996.0</td>\n",
       "      <td>1996.0</td>\n",
       "      <td>1.0</td>\n",
       "      <td>2.000000</td>\n",
       "      <td>NaN</td>\n",
       "      <td>2.0</td>\n",
       "      <td>2.00</td>\n",
       "      <td>2.0</td>\n",
       "      <td>2.00</td>\n",
       "      <td>2.0</td>\n",
       "    </tr>\n",
       "    <tr>\n",
       "      <th>Boxing</th>\n",
       "      <td>1.0</td>\n",
       "      <td>1984.000000</td>\n",
       "      <td>NaN</td>\n",
       "      <td>1984.0</td>\n",
       "      <td>1984.0</td>\n",
       "      <td>1984.0</td>\n",
       "      <td>1984.0</td>\n",
       "      <td>1984.0</td>\n",
       "      <td>1.0</td>\n",
       "      <td>1.000000</td>\n",
       "      <td>NaN</td>\n",
       "      <td>1.0</td>\n",
       "      <td>1.00</td>\n",
       "      <td>1.0</td>\n",
       "      <td>1.00</td>\n",
       "      <td>1.0</td>\n",
       "    </tr>\n",
       "    <tr>\n",
       "      <th rowspan=\"2\" valign=\"top\">Zimbabwe</th>\n",
       "      <th>Aquatics</th>\n",
       "      <td>7.0</td>\n",
       "      <td>2006.285714</td>\n",
       "      <td>2.138090</td>\n",
       "      <td>2004.0</td>\n",
       "      <td>2004.0</td>\n",
       "      <td>2008.0</td>\n",
       "      <td>2008.0</td>\n",
       "      <td>2008.0</td>\n",
       "      <td>7.0</td>\n",
       "      <td>2.142857</td>\n",
       "      <td>0.690066</td>\n",
       "      <td>1.0</td>\n",
       "      <td>2.00</td>\n",
       "      <td>2.0</td>\n",
       "      <td>2.50</td>\n",
       "      <td>3.0</td>\n",
       "    </tr>\n",
       "    <tr>\n",
       "      <th>Hockey</th>\n",
       "      <td>16.0</td>\n",
       "      <td>1980.000000</td>\n",
       "      <td>0.000000</td>\n",
       "      <td>1980.0</td>\n",
       "      <td>1980.0</td>\n",
       "      <td>1980.0</td>\n",
       "      <td>1980.0</td>\n",
       "      <td>1980.0</td>\n",
       "      <td>16.0</td>\n",
       "      <td>3.000000</td>\n",
       "      <td>0.000000</td>\n",
       "      <td>3.0</td>\n",
       "      <td>3.00</td>\n",
       "      <td>3.0</td>\n",
       "      <td>3.00</td>\n",
       "      <td>3.0</td>\n",
       "    </tr>\n",
       "  </tbody>\n",
       "</table>\n",
       "<p>828 rows × 16 columns</p>\n",
       "</div>"
      ],
      "text/plain": [
       "                       Year                                                 \\\n",
       "                      count         mean       std     min     25%     50%   \n",
       "Country     Sport                                                            \n",
       "Afghanistan Taekwondo   1.0  2008.000000       NaN  2008.0  2008.0  2008.0   \n",
       "Algeria     Athletics   6.0  1998.000000  3.346640  1992.0  1997.0  2000.0   \n",
       "            Boxing      6.0  1992.000000  6.693280  1984.0  1986.0  1994.0   \n",
       "            Judo        2.0  2008.000000  0.000000  2008.0  2008.0  2008.0   \n",
       "Argentina   Aquatics    1.0  2004.000000       NaN  2004.0  2004.0  2004.0   \n",
       "...                     ...          ...       ...     ...     ...     ...   \n",
       "Yugoslavia  Wrestling   9.0  1982.222222  4.055175  1976.0  1980.0  1984.0   \n",
       "Zambia      Athletics   1.0  1996.000000       NaN  1996.0  1996.0  1996.0   \n",
       "            Boxing      1.0  1984.000000       NaN  1984.0  1984.0  1984.0   \n",
       "Zimbabwe    Aquatics    7.0  2006.285714  2.138090  2004.0  2004.0  2008.0   \n",
       "            Hockey     16.0  1980.000000  0.000000  1980.0  1980.0  1980.0   \n",
       "\n",
       "                                      Points                                 \\\n",
       "                          75%     max  count      mean       std  min   25%   \n",
       "Country     Sport                                                             \n",
       "Afghanistan Taekwondo  2008.0  2008.0    1.0  1.000000       NaN  1.0  1.00   \n",
       "Algeria     Athletics  2000.0  2000.0    6.0  2.166667  0.983192  1.0  1.25   \n",
       "            Boxing     1996.0  2000.0    6.0  1.333333  0.816497  1.0  1.00   \n",
       "            Judo       2008.0  2008.0    2.0  1.500000  0.707107  1.0  1.25   \n",
       "Argentina   Aquatics   2004.0  2004.0    1.0  1.000000       NaN  1.0  1.00   \n",
       "...                       ...     ...    ...       ...       ...  ...   ...   \n",
       "Yugoslavia  Wrestling  1984.0  1988.0    9.0  2.000000  0.866025  1.0  1.00   \n",
       "Zambia      Athletics  1996.0  1996.0    1.0  2.000000       NaN  2.0  2.00   \n",
       "            Boxing     1984.0  1984.0    1.0  1.000000       NaN  1.0  1.00   \n",
       "Zimbabwe    Aquatics   2008.0  2008.0    7.0  2.142857  0.690066  1.0  2.00   \n",
       "            Hockey     1980.0  1980.0   16.0  3.000000  0.000000  3.0  3.00   \n",
       "\n",
       "                                       \n",
       "                       50%   75%  max  \n",
       "Country     Sport                      \n",
       "Afghanistan Taekwondo  1.0  1.00  1.0  \n",
       "Algeria     Athletics  2.5  3.00  3.0  \n",
       "            Boxing     1.0  1.00  3.0  \n",
       "            Judo       1.5  1.75  2.0  \n",
       "Argentina   Aquatics   1.0  1.00  1.0  \n",
       "...                    ...   ...  ...  \n",
       "Yugoslavia  Wrestling  2.0  3.00  3.0  \n",
       "Zambia      Athletics  2.0  2.00  2.0  \n",
       "            Boxing     1.0  1.00  1.0  \n",
       "Zimbabwe    Aquatics   2.0  2.50  3.0  \n",
       "            Hockey     3.0  3.00  3.0  \n",
       "\n",
       "[828 rows x 16 columns]"
      ]
     },
     "execution_count": 6,
     "metadata": {},
     "output_type": "execute_result"
    }
   ],
   "source": [
    "medals_x_country_sp.describe()"
   ]
  },
  {
   "cell_type": "code",
   "execution_count": 7,
   "metadata": {},
   "outputs": [],
   "source": [
    "# Create dataframe\n",
    "\n",
    "medals_by_sport = medals_x_country_sp['Medal'].count()\n",
    "\n",
    "medals_by_sport\n",
    "\n",
    "point_total= medals_x_country_sp['Points'].sum()"
   ]
  },
  {
   "cell_type": "code",
   "execution_count": 8,
   "metadata": {},
   "outputs": [
    {
     "data": {
      "text/html": [
       "<div>\n",
       "<style scoped>\n",
       "    .dataframe tbody tr th:only-of-type {\n",
       "        vertical-align: middle;\n",
       "    }\n",
       "\n",
       "    .dataframe tbody tr th {\n",
       "        vertical-align: top;\n",
       "    }\n",
       "\n",
       "    .dataframe thead th {\n",
       "        text-align: right;\n",
       "    }\n",
       "</style>\n",
       "<table border=\"1\" class=\"dataframe\">\n",
       "  <thead>\n",
       "    <tr style=\"text-align: right;\">\n",
       "      <th></th>\n",
       "      <th></th>\n",
       "      <th>Medals By Sport</th>\n",
       "      <th>Point Total</th>\n",
       "    </tr>\n",
       "    <tr>\n",
       "      <th>Country</th>\n",
       "      <th>Sport</th>\n",
       "      <th></th>\n",
       "      <th></th>\n",
       "    </tr>\n",
       "  </thead>\n",
       "  <tbody>\n",
       "    <tr>\n",
       "      <th>Afghanistan</th>\n",
       "      <th>Taekwondo</th>\n",
       "      <td>1</td>\n",
       "      <td>1.0</td>\n",
       "    </tr>\n",
       "    <tr>\n",
       "      <th rowspan=\"3\" valign=\"top\">Algeria</th>\n",
       "      <th>Athletics</th>\n",
       "      <td>6</td>\n",
       "      <td>13.0</td>\n",
       "    </tr>\n",
       "    <tr>\n",
       "      <th>Boxing</th>\n",
       "      <td>6</td>\n",
       "      <td>8.0</td>\n",
       "    </tr>\n",
       "    <tr>\n",
       "      <th>Judo</th>\n",
       "      <td>2</td>\n",
       "      <td>3.0</td>\n",
       "    </tr>\n",
       "    <tr>\n",
       "      <th>Argentina</th>\n",
       "      <th>Aquatics</th>\n",
       "      <td>1</td>\n",
       "      <td>1.0</td>\n",
       "    </tr>\n",
       "    <tr>\n",
       "      <th>...</th>\n",
       "      <th>...</th>\n",
       "      <td>...</td>\n",
       "      <td>...</td>\n",
       "    </tr>\n",
       "    <tr>\n",
       "      <th>Yugoslavia</th>\n",
       "      <th>Wrestling</th>\n",
       "      <td>9</td>\n",
       "      <td>18.0</td>\n",
       "    </tr>\n",
       "    <tr>\n",
       "      <th rowspan=\"2\" valign=\"top\">Zambia</th>\n",
       "      <th>Athletics</th>\n",
       "      <td>1</td>\n",
       "      <td>2.0</td>\n",
       "    </tr>\n",
       "    <tr>\n",
       "      <th>Boxing</th>\n",
       "      <td>1</td>\n",
       "      <td>1.0</td>\n",
       "    </tr>\n",
       "    <tr>\n",
       "      <th rowspan=\"2\" valign=\"top\">Zimbabwe</th>\n",
       "      <th>Aquatics</th>\n",
       "      <td>7</td>\n",
       "      <td>15.0</td>\n",
       "    </tr>\n",
       "    <tr>\n",
       "      <th>Hockey</th>\n",
       "      <td>16</td>\n",
       "      <td>48.0</td>\n",
       "    </tr>\n",
       "  </tbody>\n",
       "</table>\n",
       "<p>828 rows × 2 columns</p>\n",
       "</div>"
      ],
      "text/plain": [
       "                       Medals By Sport  Point Total\n",
       "Country     Sport                                  \n",
       "Afghanistan Taekwondo                1          1.0\n",
       "Algeria     Athletics                6         13.0\n",
       "            Boxing                   6          8.0\n",
       "            Judo                     2          3.0\n",
       "Argentina   Aquatics                 1          1.0\n",
       "...                                ...          ...\n",
       "Yugoslavia  Wrestling                9         18.0\n",
       "Zambia      Athletics                1          2.0\n",
       "            Boxing                   1          1.0\n",
       "Zimbabwe    Aquatics                 7         15.0\n",
       "            Hockey                  16         48.0\n",
       "\n",
       "[828 rows x 2 columns]"
      ]
     },
     "execution_count": 8,
     "metadata": {},
     "output_type": "execute_result"
    }
   ],
   "source": [
    "medal_summary = pd.DataFrame({'Medals By Sport': medals_by_sport, 'Point Total': point_total})\n",
    "\n",
    "medal_summary"
   ]
  },
  {
   "cell_type": "code",
   "execution_count": 9,
   "metadata": {},
   "outputs": [
    {
     "data": {
      "text/plain": [
       "<matplotlib.axes._subplots.AxesSubplot at 0x917ea50>"
      ]
     },
     "execution_count": 9,
     "metadata": {},
     "output_type": "execute_result"
    },
    {
     "data": {
      "image/png": "[encoded data removed]",
      "text/plain": [
       "<Figure size 432x288 with 1 Axes>"
      ]
     },
     "metadata": {
      "needs_background": "light"
     },
     "output_type": "display_data"
    }
   ],
   "source": [
    "# Plot the Sum of Medal Points\n",
    "\n",
    "medal_summary.plot.line(x=None, y=None)"
   ]
  },
  {
   "cell_type": "code",
   "execution_count": 10,
   "metadata": {},
   "outputs": [
    {
     "data": {
      "text/plain": [
       "<matplotlib.axes._subplots.AxesSubplot at 0x91c2950>"
      ]
     },
     "execution_count": 10,
     "metadata": {},
     "output_type": "execute_result"
    },
    {
     "data": {
      "image/png": "[encoded data removed]",
      "text/plain": [
       "<Figure size 432x288 with 1 Axes>"
      ]
     },
     "metadata": {
      "needs_background": "light"
     },
     "output_type": "display_data"
    }
   ],
   "source": [
    "# Graph Cleanup\n",
    "\n",
    "# change the plot to a horizontal bar graph\n",
    "\n",
    "medals_x_country_sp['Points'].sum().head(5).plot(kind='barh')"
   ]
  },
  {
   "cell_type": "code",
   "execution_count": 11,
   "metadata": {},
   "outputs": [],
   "source": [
    "# reset the index\n",
    "\n",
    "sports_data= medals_x_country_sp['Points'].sum().reset_index()"
   ]
  },
  {
   "cell_type": "code",
   "execution_count": 12,
   "metadata": {},
   "outputs": [
    {
     "data": {
      "text/plain": [
       "<matplotlib.axes._subplots.AxesSubplot at 0x91b70b0>"
      ]
     },
     "execution_count": 12,
     "metadata": {},
     "output_type": "execute_result"
    },
    {
     "data": {
      "image/png": "[encoded data removed]",
      "text/plain": [
       "<Figure size 432x288 with 1 Axes>"
      ]
     },
     "metadata": {
      "needs_background": "light"
     },
     "output_type": "display_data"
    }
   ],
   "source": [
    "# sort values\n",
    "\n",
    "sports_data.sort_values(['Points'], ascending=False).head(10).plot(kind='barh', y='Points', x='Sport')"
   ]
  },
  {
   "cell_type": "code",
   "execution_count": 13,
   "metadata": {},
   "outputs": [
    {
     "data": {
      "text/plain": [
       "array(['Taekwondo', 'Athletics', 'Boxing', 'Judo', 'Aquatics',\n",
       "       'Basketball', 'Cycling', 'Football', 'Hockey', 'Sailing', 'Tennis',\n",
       "       'Volleyball', 'Weightlifting', 'Wrestling', 'Archery', 'Baseball',\n",
       "       'Canoe / Kayak', 'Equestrian', 'Gymnastics', 'Rowing', 'Shooting',\n",
       "       'Softball', 'Triathlon', 'Modern Pentathlon', 'Badminton',\n",
       "       'Fencing', 'Handball', 'Table Tennis'], dtype=object)"
      ]
     },
     "execution_count": 13,
     "metadata": {},
     "output_type": "execute_result"
    }
   ],
   "source": [
    "# display Individual Sports\n",
    "\n",
    "sports_data['Sport'].unique()"
   ]
  },
  {
   "cell_type": "code",
   "execution_count": 14,
   "metadata": {},
   "outputs": [
    {
     "data": {
      "text/plain": [
       "count           828\n",
       "unique           28\n",
       "top       Athletics\n",
       "freq             77\n",
       "Name: Sport, dtype: object"
      ]
     },
     "execution_count": 14,
     "metadata": {},
     "output_type": "execute_result"
    }
   ],
   "source": [
    "# describe Individual Sports\n",
    "\n",
    "sports_data['Sport'].describe()"
   ]
  },
  {
   "cell_type": "code",
   "execution_count": 15,
   "metadata": {},
   "outputs": [
    {
     "data": {
      "text/plain": [
       "<matplotlib.axes._subplots.AxesSubplot at 0x923e790>"
      ]
     },
     "execution_count": 15,
     "metadata": {},
     "output_type": "execute_result"
    },
    {
     "data": {
      "image/png": "[encoded data removed]",
      "text/plain": [
       "<Figure size 432x288 with 1 Axes>"
      ]
     },
     "metadata": {
      "needs_background": "light"
     },
     "output_type": "display_data"
    }
   ],
   "source": [
    "# Plot the sum of the medal points for chosen countries by sport\n",
    "\n",
    "sports = ['Gymnastics', 'Basketball', 'Aquatics', 'Sailing', 'Athletics']\n",
    "countries = ['West Germany', 'Soviet Union', 'United States', 'Australia', 'Germany', 'Russia']\n",
    "sport_df = olympics_data.loc[olympics_data['Country'].isin(countries)]\n",
    "sport_df\n",
    "\n",
    "# group by Country Code and Sport\n",
    "sport_df.groupby(['Country', 'Sport'])['Points'].sum().plot() "
   ]
  },
  {
   "cell_type": "code",
   "execution_count": 87,
   "metadata": {},
   "outputs": [
    {
     "data": {
      "image/png": "[encoded data removed]",
      "text/plain": [
       "<Figure size 432x288 with 1 Axes>"
      ]
     },
     "metadata": {
      "needs_background": "light"
     },
     "output_type": "display_data"
    }
   ],
   "source": [
    "# Unstack & plot as bar graph\n",
    "\n",
    "sport_df.groupby(['Sport', 'Country'])['Points'].sum().unstack().plot(kind='bar', title='Medal Points Total for Country by All Sports')\n",
    "plt.savefig('images/Medal Points Total for Country by All Sports.png', dpi=300)"
   ]
  },
  {
   "cell_type": "code",
   "execution_count": 18,
   "metadata": {},
   "outputs": [
    {
     "data": {
      "text/plain": [
       "<matplotlib.axes._subplots.AxesSubplot at 0x9b32a30>"
      ]
     },
     "execution_count": 18,
     "metadata": {},
     "output_type": "execute_result"
    },
    {
     "data": {
      "image/png": "[encoded data removed]",
      "text/plain": [
       "<Figure size 432x288 with 1 Axes>"
      ]
     },
     "metadata": {
      "needs_background": "light"
     },
     "output_type": "display_data"
    }
   ],
   "source": [
    "# Refine data and Plot chosen Sports\n",
    "\n",
    "limited_sports = sport_df.loc[sport_df['Sport'].isin(sports)]\n",
    "limited_sports\n",
    "\n",
    "#  group Medal Points by Country Code and Sport\n",
    "\n",
    "limited_sports.groupby(['Country', 'Sport'])['Points'].sum().plot()"
   ]
  },
  {
   "cell_type": "code",
   "execution_count": 85,
   "metadata": {},
   "outputs": [
    {
     "data": {
      "image/png": "[encoded data removed]",
      "text/plain": [
       "<Figure size 432x288 with 1 Axes>"
      ]
     },
     "metadata": {
      "needs_background": "light"
     },
     "output_type": "display_data"
    }
   ],
   "source": [
    "# Unstack and Plot as bar graph\n",
    "\n",
    "limited_sports.groupby(['Sport', 'Country'])['Points'].sum().unstack().plot(kind='bar', title='Medal Points Total for selected Countries by selected Sports')\n",
    "plt.savefig(\"images/Medal_Points_Total_for_selected_Countries_by_selected_Sports.png\", dpi=300, bbox_inches='tight')"
   ]
  },
  {
   "cell_type": "code",
   "execution_count": 21,
   "metadata": {},
   "outputs": [
    {
     "data": {
      "text/plain": [
       "<pandas.core.groupby.generic.DataFrameGroupBy object at 0x09C77FB0>"
      ]
     },
     "execution_count": 21,
     "metadata": {},
     "output_type": "execute_result"
    }
   ],
   "source": [
    "# Groupby Year & Country \n",
    "\n",
    "medals_x_country_yr = olympics_data.groupby(['Year', 'Country'])\n",
    "medals_x_country_yr"
   ]
  },
  {
   "cell_type": "code",
   "execution_count": 22,
   "metadata": {},
   "outputs": [],
   "source": [
    "#Create dataframe\n",
    "\n",
    "medals_by_yr = medals_x_country_yr['Points'].sum()"
   ]
  },
  {
   "cell_type": "code",
   "execution_count": 23,
   "metadata": {},
   "outputs": [
    {
     "data": {
      "text/html": [
       "<div>\n",
       "<style scoped>\n",
       "    .dataframe tbody tr th:only-of-type {\n",
       "        vertical-align: middle;\n",
       "    }\n",
       "\n",
       "    .dataframe tbody tr th {\n",
       "        vertical-align: top;\n",
       "    }\n",
       "\n",
       "    .dataframe thead th {\n",
       "        text-align: right;\n",
       "    }\n",
       "</style>\n",
       "<table border=\"1\" class=\"dataframe\">\n",
       "  <thead>\n",
       "    <tr style=\"text-align: right;\">\n",
       "      <th></th>\n",
       "      <th></th>\n",
       "      <th>Point Total</th>\n",
       "    </tr>\n",
       "    <tr>\n",
       "      <th>Year</th>\n",
       "      <th>Country</th>\n",
       "      <th></th>\n",
       "    </tr>\n",
       "  </thead>\n",
       "  <tbody>\n",
       "    <tr>\n",
       "      <th rowspan=\"5\" valign=\"top\">1976.0</th>\n",
       "      <th>Australia</th>\n",
       "      <td>40.0</td>\n",
       "    </tr>\n",
       "    <tr>\n",
       "      <th>Austria</th>\n",
       "      <td>1.0</td>\n",
       "    </tr>\n",
       "    <tr>\n",
       "      <th>Belgium</th>\n",
       "      <td>12.0</td>\n",
       "    </tr>\n",
       "    <tr>\n",
       "      <th>Bermuda*</th>\n",
       "      <td>1.0</td>\n",
       "    </tr>\n",
       "    <tr>\n",
       "      <th>Brazil</th>\n",
       "      <td>3.0</td>\n",
       "    </tr>\n",
       "    <tr>\n",
       "      <th>...</th>\n",
       "      <th>...</th>\n",
       "      <td>...</td>\n",
       "    </tr>\n",
       "    <tr>\n",
       "      <th rowspan=\"5\" valign=\"top\">2008.0</th>\n",
       "      <th>United States</th>\n",
       "      <td>674.0</td>\n",
       "    </tr>\n",
       "    <tr>\n",
       "      <th>Uzbekistan</th>\n",
       "      <td>10.0</td>\n",
       "    </tr>\n",
       "    <tr>\n",
       "      <th>Venezuela</th>\n",
       "      <td>1.0</td>\n",
       "    </tr>\n",
       "    <tr>\n",
       "      <th>Vietnam</th>\n",
       "      <td>2.0</td>\n",
       "    </tr>\n",
       "    <tr>\n",
       "      <th>Zimbabwe</th>\n",
       "      <td>9.0</td>\n",
       "    </tr>\n",
       "  </tbody>\n",
       "</table>\n",
       "<p>559 rows × 1 columns</p>\n",
       "</div>"
      ],
      "text/plain": [
       "                      Point Total\n",
       "Year   Country                   \n",
       "1976.0 Australia             40.0\n",
       "       Austria                1.0\n",
       "       Belgium               12.0\n",
       "       Bermuda*               1.0\n",
       "       Brazil                 3.0\n",
       "...                           ...\n",
       "2008.0 United States        674.0\n",
       "       Uzbekistan            10.0\n",
       "       Venezuela              1.0\n",
       "       Vietnam                2.0\n",
       "       Zimbabwe               9.0\n",
       "\n",
       "[559 rows x 1 columns]"
      ]
     },
     "execution_count": 23,
     "metadata": {},
     "output_type": "execute_result"
    }
   ],
   "source": [
    "year_stats = pd.DataFrame({'Point Total': medals_by_yr})\n",
    "year_stats"
   ]
  },
  {
   "cell_type": "code",
   "execution_count": 24,
   "metadata": {},
   "outputs": [
    {
     "data": {
      "text/plain": [
       "<matplotlib.axes._subplots.AxesSubplot at 0x916aa50>"
      ]
     },
     "execution_count": 24,
     "metadata": {},
     "output_type": "execute_result"
    },
    {
     "data": {
      "image/png": "[encoded data removed]",
      "text/plain": [
       "<Figure size 432x288 with 1 Axes>"
      ]
     },
     "metadata": {
      "needs_background": "light"
     },
     "output_type": "display_data"
    }
   ],
   "source": [
    "# Plot the Sum of Medal Points\n",
    "\n",
    "year_stats.plot.line(x=None, y=None)"
   ]
  },
  {
   "cell_type": "code",
   "execution_count": 25,
   "metadata": {},
   "outputs": [
    {
     "data": {
      "text/plain": [
       "<matplotlib.axes._subplots.AxesSubplot at 0x9ccb9b0>"
      ]
     },
     "execution_count": 25,
     "metadata": {},
     "output_type": "execute_result"
    },
    {
     "data": {
      "image/png": "[encoded data removed]",
      "text/plain": [
       "<Figure size 432x288 with 1 Axes>"
      ]
     },
     "metadata": {
      "needs_background": "light"
     },
     "output_type": "display_data"
    }
   ],
   "source": [
    "# Graph Cleanup\n",
    "\n",
    "# change the plot to a horizontal bar graph\n",
    "\n",
    "medals_x_country_yr['Points'].sum().head(5).plot(kind='barh')"
   ]
  },
  {
   "cell_type": "code",
   "execution_count": 26,
   "metadata": {},
   "outputs": [],
   "source": [
    "# reset the index\n",
    "\n",
    "country_data= medals_x_country_yr['Points'].sum().reset_index()"
   ]
  },
  {
   "cell_type": "code",
   "execution_count": 27,
   "metadata": {},
   "outputs": [
    {
     "data": {
      "text/plain": [
       "<matplotlib.axes._subplots.AxesSubplot at 0x9d10cb0>"
      ]
     },
     "execution_count": 27,
     "metadata": {},
     "output_type": "execute_result"
    },
    {
     "data": {
      "image/png": "[encoded data removed]",
      "text/plain": [
       "<Figure size 432x288 with 1 Axes>"
      ]
     },
     "metadata": {
      "needs_background": "light"
     },
     "output_type": "display_data"
    }
   ],
   "source": [
    "# sort values\n",
    "\n",
    "country_data.sort_values(['Points'], ascending=False).head(10).plot(kind='barh', y='Points', x='Country')"
   ]
  },
  {
   "cell_type": "code",
   "execution_count": 28,
   "metadata": {},
   "outputs": [
    {
     "data": {
      "text/plain": [
       "array(['Australia', 'Austria', 'Belgium', 'Bermuda*', 'Brazil',\n",
       "       'Bulgaria', 'Canada', 'Cuba', 'Czechoslovakia', 'Denmark',\n",
       "       'East Germany', 'Finland', 'France', 'Hungary', 'Iran', 'Italy',\n",
       "       'Jamaica', 'Japan', 'Korea, North', 'Korea, South', 'Mexico',\n",
       "       'Mongolia', 'Netherlands', 'New Zealand', 'Norway', 'Pakistan',\n",
       "       'Poland', 'Portugal', 'Puerto Rico*', 'Romania', 'Soviet Union',\n",
       "       'Spain', 'Sweden', 'Switzerland', 'Thailand',\n",
       "       'Trinidad and Tobago', 'United Kingdom', 'United States',\n",
       "       'Venezuela', 'West Germany', 'Yugoslavia', 'Ethiopia', 'Greece',\n",
       "       'Guyana', 'India', 'Ireland', 'Lebanon', 'Tanzania', 'Uganda',\n",
       "       'Zimbabwe', 'Algeria', 'Cameroon', 'China', 'Colombia',\n",
       "       \"Cote d'Ivoire\", 'Dominican Republic', 'Egypt', 'Iceland', 'Kenya',\n",
       "       'Morocco', 'Nigeria', 'Peru', 'Syria', 'Taiwan', 'Turkey',\n",
       "       'Zambia', 'Argentina', 'Chile', 'Costa Rica', 'Djibouti',\n",
       "       'Indonesia', 'Netherlands Antilles*', 'Philippines', 'Senegal',\n",
       "       'Suriname', 'Virgin Islands*', 'Bahamas', 'Croatia', 'Estonia',\n",
       "       'Germany', 'Ghana', 'Independent Olympic Participants (1992)',\n",
       "       'Israel', 'Latvia', 'Lithuania', 'Malaysia', 'Namibia', 'Qatar',\n",
       "       'Slovenia', 'South Africa', 'Unified team', 'Armenia',\n",
       "       'Azerbaijan', 'Belarus', 'Burundi', 'Czech Republic', 'Ecuador',\n",
       "       'Georgia', 'Hong Kong*', 'Kazakhstan', 'Moldova', 'Mozambique',\n",
       "       'Russia', 'Slovakia', 'Tonga', 'Tunisia', 'Ukraine', 'Uzbekistan',\n",
       "       'Barbados', 'Kuwait', 'Kyrgyzstan', 'Macedonia', 'Saudi Arabia',\n",
       "       'Sri Lanka', 'Uruguay', 'Vietnam', 'Eritrea', 'Paraguay', 'Serbia',\n",
       "       'United Arab Emirates', 'Afghanistan', 'Mauritius', 'Panama',\n",
       "       'Singapore', 'Sudan', 'Tajikistan', 'Togo'], dtype=object)"
      ]
     },
     "execution_count": 28,
     "metadata": {},
     "output_type": "execute_result"
    }
   ],
   "source": [
    "# display Individual Countries\n",
    "\n",
    "country_data['Country'].unique()"
   ]
  },
  {
   "cell_type": "code",
   "execution_count": 29,
   "metadata": {},
   "outputs": [
    {
     "data": {
      "text/plain": [
       "count       559\n",
       "unique      127\n",
       "top       Italy\n",
       "freq          9\n",
       "Name: Country, dtype: object"
      ]
     },
     "execution_count": 29,
     "metadata": {},
     "output_type": "execute_result"
    }
   ],
   "source": [
    "# describe Individual Countries\n",
    "\n",
    "country_data['Country'].describe()"
   ]
  },
  {
   "cell_type": "code",
   "execution_count": 30,
   "metadata": {},
   "outputs": [
    {
     "data": {
      "text/plain": [
       "<matplotlib.axes._subplots.AxesSubplot at 0x9d62a10>"
      ]
     },
     "execution_count": 30,
     "metadata": {},
     "output_type": "execute_result"
    },
    {
     "data": {
      "image/png": "[encoded data removed]",
      "text/plain": [
       "<Figure size 432x288 with 1 Axes>"
      ]
     },
     "metadata": {
      "needs_background": "light"
     },
     "output_type": "display_data"
    }
   ],
   "source": [
    "# Refine data and Plot chosen countrys\n",
    "\n",
    "countries_2 = ['West Germany', 'Soviet Union', 'United States', 'Netherlands', 'Germany', 'Russia']\n",
    "\n",
    "year_df = olympics_data.loc[olympics_data['Country'].isin(countries_2)]\n",
    "year_df\n",
    "\n",
    "#  group Medal Points by Country and Year\n",
    "year_df.groupby(['Country', 'Year'])['Points'].sum().plot() "
   ]
  },
  {
   "cell_type": "code",
   "execution_count": 86,
   "metadata": {},
   "outputs": [
    {
     "data": {
      "image/png": "[encoded data removed]",
      "text/plain": [
       "<Figure size 432x288 with 1 Axes>"
      ]
     },
     "metadata": {
      "needs_background": "light"
     },
     "output_type": "display_data"
    }
   ],
   "source": [
    "# Unstack and Plot as line graph\n",
    "\n",
    "year_df.groupby(['Year', 'Country'])['Points'].sum().unstack().plot(title='Medal Point Total for selected Countries by Year', marker='o')\n",
    "plt.savefig(\"images/Medal_Point_Total_for_selected_Countries_by_Year.png\", dpi=300, bbox_inches='tight')"
   ]
  },
  {
   "cell_type": "code",
   "execution_count": 33,
   "metadata": {},
   "outputs": [
    {
     "data": {
      "text/plain": [
       "Year    Country      \n",
       "1976.0  Netherlands       17.0\n",
       "        Soviet Union     604.0\n",
       "        United States    337.0\n",
       "        West Germany     141.0\n",
       "1980.0  Netherlands        7.0\n",
       "        Soviet Union     953.0\n",
       "1984.0  Netherlands       86.0\n",
       "        United States    784.0\n",
       "        West Germany     293.0\n",
       "1988.0  Netherlands       55.0\n",
       "        Soviet Union     627.0\n",
       "        United States    411.0\n",
       "        West Germany     214.0\n",
       "1992.0  Germany          417.0\n",
       "        Netherlands       63.0\n",
       "        United States    452.0\n",
       "1996.0  Germany          243.0\n",
       "        Netherlands      158.0\n",
       "        Russia           232.0\n",
       "        United States    628.0\n",
       "2000.0  Germany          204.0\n",
       "        Netherlands      162.0\n",
       "        Russia           388.0\n",
       "        United States    574.0\n",
       "2004.0  Germany          276.0\n",
       "        Netherlands      134.0\n",
       "        Russia           335.0\n",
       "        United States    571.0\n",
       "2008.0  Germany          201.0\n",
       "        Netherlands      160.0\n",
       "        Russia           273.0\n",
       "        United States    674.0\n",
       "Name: Points, dtype: float64"
      ]
     },
     "execution_count": 33,
     "metadata": {},
     "output_type": "execute_result"
    }
   ],
   "source": [
    "year_df.groupby(['Year', 'Country'])['Points'].sum()"
   ]
  },
  {
   "cell_type": "markdown",
   "metadata": {},
   "source": [
    "#  Change in Performance of Top Four by Olympic Year"
   ]
  },
  {
   "cell_type": "code",
   "execution_count": 34,
   "metadata": {},
   "outputs": [
    {
     "data": {
      "text/html": [
       "<div>\n",
       "<style scoped>\n",
       "    .dataframe tbody tr th:only-of-type {\n",
       "        vertical-align: middle;\n",
       "    }\n",
       "\n",
       "    .dataframe tbody tr th {\n",
       "        vertical-align: top;\n",
       "    }\n",
       "\n",
       "    .dataframe thead th {\n",
       "        text-align: right;\n",
       "    }\n",
       "</style>\n",
       "<table border=\"1\" class=\"dataframe\">\n",
       "  <thead>\n",
       "    <tr style=\"text-align: right;\">\n",
       "      <th></th>\n",
       "      <th>Points</th>\n",
       "    </tr>\n",
       "    <tr>\n",
       "      <th>Country</th>\n",
       "      <th></th>\n",
       "    </tr>\n",
       "  </thead>\n",
       "  <tbody>\n",
       "    <tr>\n",
       "      <th>United States</th>\n",
       "      <td>4431.0</td>\n",
       "    </tr>\n",
       "    <tr>\n",
       "      <th>Soviet Union</th>\n",
       "      <td>2184.0</td>\n",
       "    </tr>\n",
       "    <tr>\n",
       "      <th>Australia</th>\n",
       "      <td>1500.0</td>\n",
       "    </tr>\n",
       "    <tr>\n",
       "      <th>China</th>\n",
       "      <td>1399.0</td>\n",
       "    </tr>\n",
       "    <tr>\n",
       "      <th>East Germany</th>\n",
       "      <td>1388.0</td>\n",
       "    </tr>\n",
       "  </tbody>\n",
       "</table>\n",
       "</div>"
      ],
      "text/plain": [
       "               Points\n",
       "Country              \n",
       "United States  4431.0\n",
       "Soviet Union   2184.0\n",
       "Australia      1500.0\n",
       "China          1399.0\n",
       "East Germany   1388.0"
      ]
     },
     "execution_count": 34,
     "metadata": {},
     "output_type": "execute_result"
    }
   ],
   "source": [
    "#show the top scorers without grouping Russia/Soviet Union and Germany/West Germanys\n",
    "\n",
    "top_score = olympics_data.groupby(\"Country\")[\"Points\"].sum()\n",
    "top_score_df = pd.DataFrame(top_score)\n",
    "top_score_sort_df = top_score_df.sort_values(by=['Points'], ascending=False)\n",
    "top_score_sort_df.head()"
   ]
  },
  {
   "cell_type": "code",
   "execution_count": 35,
   "metadata": {},
   "outputs": [
    {
     "data": {
      "text/html": [
       "<div>\n",
       "<style scoped>\n",
       "    .dataframe tbody tr th:only-of-type {\n",
       "        vertical-align: middle;\n",
       "    }\n",
       "\n",
       "    .dataframe tbody tr th {\n",
       "        vertical-align: top;\n",
       "    }\n",
       "\n",
       "    .dataframe thead th {\n",
       "        text-align: right;\n",
       "    }\n",
       "</style>\n",
       "<table border=\"1\" class=\"dataframe\">\n",
       "  <thead>\n",
       "    <tr style=\"text-align: right;\">\n",
       "      <th></th>\n",
       "      <th>Year</th>\n",
       "      <th>Points</th>\n",
       "      <th>Country</th>\n",
       "    </tr>\n",
       "  </thead>\n",
       "  <tbody>\n",
       "    <tr>\n",
       "      <th>0</th>\n",
       "      <td>1976.0</td>\n",
       "      <td>2.0</td>\n",
       "      <td>East Germany</td>\n",
       "    </tr>\n",
       "    <tr>\n",
       "      <th>1</th>\n",
       "      <td>1976.0</td>\n",
       "      <td>1.0</td>\n",
       "      <td>Soviet Union</td>\n",
       "    </tr>\n",
       "    <tr>\n",
       "      <th>2</th>\n",
       "      <td>1976.0</td>\n",
       "      <td>3.0</td>\n",
       "      <td>United States</td>\n",
       "    </tr>\n",
       "    <tr>\n",
       "      <th>3</th>\n",
       "      <td>1976.0</td>\n",
       "      <td>2.0</td>\n",
       "      <td>Italy</td>\n",
       "    </tr>\n",
       "    <tr>\n",
       "      <th>4</th>\n",
       "      <td>1976.0</td>\n",
       "      <td>1.0</td>\n",
       "      <td>United States</td>\n",
       "    </tr>\n",
       "    <tr>\n",
       "      <th>...</th>\n",
       "      <td>...</td>\n",
       "      <td>...</td>\n",
       "      <td>...</td>\n",
       "    </tr>\n",
       "    <tr>\n",
       "      <th>15428</th>\n",
       "      <td>2008.0</td>\n",
       "      <td>1.0</td>\n",
       "      <td>France</td>\n",
       "    </tr>\n",
       "    <tr>\n",
       "      <th>15429</th>\n",
       "      <td>2008.0</td>\n",
       "      <td>3.0</td>\n",
       "      <td>Georgia</td>\n",
       "    </tr>\n",
       "    <tr>\n",
       "      <th>15430</th>\n",
       "      <td>2008.0</td>\n",
       "      <td>2.0</td>\n",
       "      <td>Azerbaijan</td>\n",
       "    </tr>\n",
       "    <tr>\n",
       "      <th>15431</th>\n",
       "      <td>2008.0</td>\n",
       "      <td>3.0</td>\n",
       "      <td>France</td>\n",
       "    </tr>\n",
       "    <tr>\n",
       "      <th>15432</th>\n",
       "      <td>2008.0</td>\n",
       "      <td>3.0</td>\n",
       "      <td>Cuba</td>\n",
       "    </tr>\n",
       "  </tbody>\n",
       "</table>\n",
       "<p>15433 rows × 3 columns</p>\n",
       "</div>"
      ],
      "text/plain": [
       "         Year  Points        Country\n",
       "0      1976.0     2.0   East Germany\n",
       "1      1976.0     1.0   Soviet Union\n",
       "2      1976.0     3.0  United States\n",
       "3      1976.0     2.0          Italy\n",
       "4      1976.0     1.0  United States\n",
       "...       ...     ...            ...\n",
       "15428  2008.0     1.0         France\n",
       "15429  2008.0     3.0        Georgia\n",
       "15430  2008.0     2.0     Azerbaijan\n",
       "15431  2008.0     3.0         France\n",
       "15432  2008.0     3.0           Cuba\n",
       "\n",
       "[15433 rows x 3 columns]"
      ]
     },
     "execution_count": 35,
     "metadata": {},
     "output_type": "execute_result"
    }
   ],
   "source": [
    "#create a DataFrame with only needed info\n",
    "ycp_df = olympics_data[[\"Year\", \"Points\", \"Country\"]]\n",
    "ycp_df"
   ]
  },
  {
   "cell_type": "code",
   "execution_count": 36,
   "metadata": {},
   "outputs": [
    {
     "name": "stdout",
     "output_type": "stream",
     "text": [
      "total of Russia/Soviet Union points: 3412.0\n"
     ]
    }
   ],
   "source": [
    "#find total points of Russia/Soviet Union to see if it is in top 4\n",
    "russia_ussr = [\"Russia\", \"Soviet Union\"]\n",
    "russia_ussr_df = ycp_df[ycp_df[\"Country\"].isin(russia_ussr)]\n",
    "russia_ussr_points = russia_ussr_df[\"Points\"].sum()\n",
    "print(f\"total of Russia/Soviet Union points: {russia_ussr_points}\")"
   ]
  },
  {
   "cell_type": "code",
   "execution_count": 37,
   "metadata": {},
   "outputs": [
    {
     "name": "stdout",
     "output_type": "stream",
     "text": [
      "total of German/West German points 1989.0\n"
     ]
    }
   ],
   "source": [
    "#find total points of Germany/West Germany to see if it is in top 4\n",
    "germany_frd = [\"Germany\", \"West Germany\"]\n",
    "germany_frd_df= ycp_df[ycp_df[\"Country\"].isin(germany_frd)]\n",
    "germany_frd_points = germany_frd_df[\"Points\"].sum()\n",
    "print(f\"total of German/West German points {germany_frd_points}\")"
   ]
  },
  {
   "cell_type": "code",
   "execution_count": 38,
   "metadata": {},
   "outputs": [
    {
     "name": "stderr",
     "output_type": "stream",
     "text": [
      "C:\\Users\\rbvan\\anaconda3\\envs\\PythonData\\lib\\site-packages\\ipykernel_launcher.py:2: SettingWithCopyWarning: \n",
      "A value is trying to be set on a copy of a slice from a DataFrame.\n",
      "Try using .loc[row_indexer,col_indexer] = value instead\n",
      "\n",
      "See the caveats in the documentation: https://pandas.pydata.org/pandas-docs/stable/user_guide/indexing.html#returning-a-view-versus-a-copy\n",
      "  \n",
      "C:\\Users\\rbvan\\anaconda3\\envs\\PythonData\\lib\\site-packages\\ipykernel_launcher.py:3: SettingWithCopyWarning: \n",
      "A value is trying to be set on a copy of a slice from a DataFrame.\n",
      "Try using .loc[row_indexer,col_indexer] = value instead\n",
      "\n",
      "See the caveats in the documentation: https://pandas.pydata.org/pandas-docs/stable/user_guide/indexing.html#returning-a-view-versus-a-copy\n",
      "  This is separate from the ipykernel package so we can avoid doing imports until\n",
      "C:\\Users\\rbvan\\anaconda3\\envs\\PythonData\\lib\\site-packages\\ipykernel_launcher.py:5: SettingWithCopyWarning: \n",
      "A value is trying to be set on a copy of a slice from a DataFrame.\n",
      "Try using .loc[row_indexer,col_indexer] = value instead\n",
      "\n",
      "See the caveats in the documentation: https://pandas.pydata.org/pandas-docs/stable/user_guide/indexing.html#returning-a-view-versus-a-copy\n",
      "  \"\"\"\n",
      "C:\\Users\\rbvan\\anaconda3\\envs\\PythonData\\lib\\site-packages\\ipykernel_launcher.py:6: SettingWithCopyWarning: \n",
      "A value is trying to be set on a copy of a slice from a DataFrame.\n",
      "Try using .loc[row_indexer,col_indexer] = value instead\n",
      "\n",
      "See the caveats in the documentation: https://pandas.pydata.org/pandas-docs/stable/user_guide/indexing.html#returning-a-view-versus-a-copy\n",
      "  \n"
     ]
    }
   ],
   "source": [
    "#rename Soviet Union and Russia to Soviet Union/Russia\n",
    "ycp_df[\"Country\"] = ycp_df[\"Country\"].replace([\"Soviet Union\"], \"Soviet Union/Russia\")\n",
    "ycp_df[\"Country\"] = ycp_df[\"Country\"].replace([\"Russia\"], \"Soviet Union/Russia\")\n",
    "#rename West Germany and Germany to West Germany/Germany\n",
    "ycp_df[\"Country\"] = ycp_df[\"Country\"].replace([\"West Germany\"], \"West Germany/Germany\")\n",
    "ycp_df[\"Country\"] = ycp_df[\"Country\"].replace([\"Germany\"], \"West Germany/Germany\")"
   ]
  },
  {
   "cell_type": "code",
   "execution_count": 39,
   "metadata": {},
   "outputs": [
    {
     "data": {
      "text/html": [
       "<div>\n",
       "<style scoped>\n",
       "    .dataframe tbody tr th:only-of-type {\n",
       "        vertical-align: middle;\n",
       "    }\n",
       "\n",
       "    .dataframe tbody tr th {\n",
       "        vertical-align: top;\n",
       "    }\n",
       "\n",
       "    .dataframe thead th {\n",
       "        text-align: right;\n",
       "    }\n",
       "</style>\n",
       "<table border=\"1\" class=\"dataframe\">\n",
       "  <thead>\n",
       "    <tr style=\"text-align: right;\">\n",
       "      <th></th>\n",
       "      <th>Year</th>\n",
       "      <th>Points</th>\n",
       "      <th>Country</th>\n",
       "    </tr>\n",
       "  </thead>\n",
       "  <tbody>\n",
       "    <tr>\n",
       "      <th>1</th>\n",
       "      <td>1976.0</td>\n",
       "      <td>1.0</td>\n",
       "      <td>Soviet Union/Russia</td>\n",
       "    </tr>\n",
       "    <tr>\n",
       "      <th>2</th>\n",
       "      <td>1976.0</td>\n",
       "      <td>3.0</td>\n",
       "      <td>United States</td>\n",
       "    </tr>\n",
       "    <tr>\n",
       "      <th>4</th>\n",
       "      <td>1976.0</td>\n",
       "      <td>1.0</td>\n",
       "      <td>United States</td>\n",
       "    </tr>\n",
       "    <tr>\n",
       "      <th>5</th>\n",
       "      <td>1976.0</td>\n",
       "      <td>2.0</td>\n",
       "      <td>United States</td>\n",
       "    </tr>\n",
       "    <tr>\n",
       "      <th>6</th>\n",
       "      <td>1976.0</td>\n",
       "      <td>3.0</td>\n",
       "      <td>Soviet Union/Russia</td>\n",
       "    </tr>\n",
       "    <tr>\n",
       "      <th>...</th>\n",
       "      <td>...</td>\n",
       "      <td>...</td>\n",
       "      <td>...</td>\n",
       "    </tr>\n",
       "    <tr>\n",
       "      <th>15413</th>\n",
       "      <td>2008.0</td>\n",
       "      <td>3.0</td>\n",
       "      <td>Soviet Union/Russia</td>\n",
       "    </tr>\n",
       "    <tr>\n",
       "      <th>15420</th>\n",
       "      <td>2008.0</td>\n",
       "      <td>1.0</td>\n",
       "      <td>United States</td>\n",
       "    </tr>\n",
       "    <tr>\n",
       "      <th>15422</th>\n",
       "      <td>2008.0</td>\n",
       "      <td>3.0</td>\n",
       "      <td>Soviet Union/Russia</td>\n",
       "    </tr>\n",
       "    <tr>\n",
       "      <th>15426</th>\n",
       "      <td>2008.0</td>\n",
       "      <td>2.0</td>\n",
       "      <td>West Germany/Germany</td>\n",
       "    </tr>\n",
       "    <tr>\n",
       "      <th>15427</th>\n",
       "      <td>2008.0</td>\n",
       "      <td>2.0</td>\n",
       "      <td>Soviet Union/Russia</td>\n",
       "    </tr>\n",
       "  </tbody>\n",
       "</table>\n",
       "<p>5485 rows × 3 columns</p>\n",
       "</div>"
      ],
      "text/plain": [
       "         Year  Points               Country\n",
       "1      1976.0     1.0   Soviet Union/Russia\n",
       "2      1976.0     3.0         United States\n",
       "4      1976.0     1.0         United States\n",
       "5      1976.0     2.0         United States\n",
       "6      1976.0     3.0   Soviet Union/Russia\n",
       "...       ...     ...                   ...\n",
       "15413  2008.0     3.0   Soviet Union/Russia\n",
       "15420  2008.0     1.0         United States\n",
       "15422  2008.0     3.0   Soviet Union/Russia\n",
       "15426  2008.0     2.0  West Germany/Germany\n",
       "15427  2008.0     2.0   Soviet Union/Russia\n",
       "\n",
       "[5485 rows x 3 columns]"
      ]
     },
     "execution_count": 39,
     "metadata": {},
     "output_type": "execute_result"
    }
   ],
   "source": [
    "#create a DataFrame with only the top 4 Countries\n",
    "topfour = [\"United States\", \"Soviet Union/Russia\", \"West Germany/Germany\", \"Australia\"]\n",
    "top_four = ycp_df[ycp_df[\"Country\"].isin(topfour)]\n",
    "top_four"
   ]
  },
  {
   "cell_type": "code",
   "execution_count": 40,
   "metadata": {},
   "outputs": [
    {
     "data": {
      "text/html": [
       "<div>\n",
       "<style scoped>\n",
       "    .dataframe tbody tr th:only-of-type {\n",
       "        vertical-align: middle;\n",
       "    }\n",
       "\n",
       "    .dataframe tbody tr th {\n",
       "        vertical-align: top;\n",
       "    }\n",
       "\n",
       "    .dataframe thead th {\n",
       "        text-align: right;\n",
       "    }\n",
       "</style>\n",
       "<table border=\"1\" class=\"dataframe\">\n",
       "  <thead>\n",
       "    <tr style=\"text-align: right;\">\n",
       "      <th></th>\n",
       "      <th></th>\n",
       "      <th>Points</th>\n",
       "    </tr>\n",
       "    <tr>\n",
       "      <th>Year</th>\n",
       "      <th>Country</th>\n",
       "      <th></th>\n",
       "    </tr>\n",
       "  </thead>\n",
       "  <tbody>\n",
       "    <tr>\n",
       "      <th rowspan=\"4\" valign=\"top\">1976.0</th>\n",
       "      <th>Australia</th>\n",
       "      <td>40.0</td>\n",
       "    </tr>\n",
       "    <tr>\n",
       "      <th>Soviet Union/Russia</th>\n",
       "      <td>604.0</td>\n",
       "    </tr>\n",
       "    <tr>\n",
       "      <th>United States</th>\n",
       "      <td>337.0</td>\n",
       "    </tr>\n",
       "    <tr>\n",
       "      <th>West Germany/Germany</th>\n",
       "      <td>141.0</td>\n",
       "    </tr>\n",
       "    <tr>\n",
       "      <th rowspan=\"2\" valign=\"top\">1980.0</th>\n",
       "      <th>Australia</th>\n",
       "      <td>24.0</td>\n",
       "    </tr>\n",
       "    <tr>\n",
       "      <th>Soviet Union/Russia</th>\n",
       "      <td>953.0</td>\n",
       "    </tr>\n",
       "    <tr>\n",
       "      <th rowspan=\"3\" valign=\"top\">1984.0</th>\n",
       "      <th>Australia</th>\n",
       "      <td>78.0</td>\n",
       "    </tr>\n",
       "    <tr>\n",
       "      <th>United States</th>\n",
       "      <td>784.0</td>\n",
       "    </tr>\n",
       "    <tr>\n",
       "      <th>West Germany/Germany</th>\n",
       "      <td>293.0</td>\n",
       "    </tr>\n",
       "    <tr>\n",
       "      <th rowspan=\"4\" valign=\"top\">1988.0</th>\n",
       "      <th>Australia</th>\n",
       "      <td>76.0</td>\n",
       "    </tr>\n",
       "    <tr>\n",
       "      <th>Soviet Union/Russia</th>\n",
       "      <td>627.0</td>\n",
       "    </tr>\n",
       "    <tr>\n",
       "      <th>United States</th>\n",
       "      <td>411.0</td>\n",
       "    </tr>\n",
       "    <tr>\n",
       "      <th>West Germany/Germany</th>\n",
       "      <td>214.0</td>\n",
       "    </tr>\n",
       "    <tr>\n",
       "      <th rowspan=\"3\" valign=\"top\">1992.0</th>\n",
       "      <th>Australia</th>\n",
       "      <td>112.0</td>\n",
       "    </tr>\n",
       "    <tr>\n",
       "      <th>United States</th>\n",
       "      <td>452.0</td>\n",
       "    </tr>\n",
       "    <tr>\n",
       "      <th>West Germany/Germany</th>\n",
       "      <td>417.0</td>\n",
       "    </tr>\n",
       "    <tr>\n",
       "      <th rowspan=\"4\" valign=\"top\">1996.0</th>\n",
       "      <th>Australia</th>\n",
       "      <td>212.0</td>\n",
       "    </tr>\n",
       "    <tr>\n",
       "      <th>Soviet Union/Russia</th>\n",
       "      <td>232.0</td>\n",
       "    </tr>\n",
       "    <tr>\n",
       "      <th>United States</th>\n",
       "      <td>628.0</td>\n",
       "    </tr>\n",
       "    <tr>\n",
       "      <th>West Germany/Germany</th>\n",
       "      <td>243.0</td>\n",
       "    </tr>\n",
       "    <tr>\n",
       "      <th rowspan=\"4\" valign=\"top\">2000.0</th>\n",
       "      <th>Australia</th>\n",
       "      <td>372.0</td>\n",
       "    </tr>\n",
       "    <tr>\n",
       "      <th>Soviet Union/Russia</th>\n",
       "      <td>388.0</td>\n",
       "    </tr>\n",
       "    <tr>\n",
       "      <th>United States</th>\n",
       "      <td>574.0</td>\n",
       "    </tr>\n",
       "    <tr>\n",
       "      <th>West Germany/Germany</th>\n",
       "      <td>204.0</td>\n",
       "    </tr>\n",
       "    <tr>\n",
       "      <th rowspan=\"4\" valign=\"top\">2004.0</th>\n",
       "      <th>Australia</th>\n",
       "      <td>333.0</td>\n",
       "    </tr>\n",
       "    <tr>\n",
       "      <th>Soviet Union/Russia</th>\n",
       "      <td>335.0</td>\n",
       "    </tr>\n",
       "    <tr>\n",
       "      <th>United States</th>\n",
       "      <td>571.0</td>\n",
       "    </tr>\n",
       "    <tr>\n",
       "      <th>West Germany/Germany</th>\n",
       "      <td>276.0</td>\n",
       "    </tr>\n",
       "    <tr>\n",
       "      <th rowspan=\"4\" valign=\"top\">2008.0</th>\n",
       "      <th>Australia</th>\n",
       "      <td>253.0</td>\n",
       "    </tr>\n",
       "    <tr>\n",
       "      <th>Soviet Union/Russia</th>\n",
       "      <td>273.0</td>\n",
       "    </tr>\n",
       "    <tr>\n",
       "      <th>United States</th>\n",
       "      <td>674.0</td>\n",
       "    </tr>\n",
       "    <tr>\n",
       "      <th>West Germany/Germany</th>\n",
       "      <td>201.0</td>\n",
       "    </tr>\n",
       "  </tbody>\n",
       "</table>\n",
       "</div>"
      ],
      "text/plain": [
       "                             Points\n",
       "Year   Country                     \n",
       "1976.0 Australia               40.0\n",
       "       Soviet Union/Russia    604.0\n",
       "       United States          337.0\n",
       "       West Germany/Germany   141.0\n",
       "1980.0 Australia               24.0\n",
       "       Soviet Union/Russia    953.0\n",
       "1984.0 Australia               78.0\n",
       "       United States          784.0\n",
       "       West Germany/Germany   293.0\n",
       "1988.0 Australia               76.0\n",
       "       Soviet Union/Russia    627.0\n",
       "       United States          411.0\n",
       "       West Germany/Germany   214.0\n",
       "1992.0 Australia              112.0\n",
       "       United States          452.0\n",
       "       West Germany/Germany   417.0\n",
       "1996.0 Australia              212.0\n",
       "       Soviet Union/Russia    232.0\n",
       "       United States          628.0\n",
       "       West Germany/Germany   243.0\n",
       "2000.0 Australia              372.0\n",
       "       Soviet Union/Russia    388.0\n",
       "       United States          574.0\n",
       "       West Germany/Germany   204.0\n",
       "2004.0 Australia              333.0\n",
       "       Soviet Union/Russia    335.0\n",
       "       United States          571.0\n",
       "       West Germany/Germany   276.0\n",
       "2008.0 Australia              253.0\n",
       "       Soviet Union/Russia    273.0\n",
       "       United States          674.0\n",
       "       West Germany/Germany   201.0"
      ]
     },
     "execution_count": 40,
     "metadata": {},
     "output_type": "execute_result"
    }
   ],
   "source": [
    "#group the DataFrame by Year and Country to get each countries total points for each Olympic Year \n",
    "top_four_points = top_four.groupby([\"Year\",\"Country\"])[\"Points\"].sum()\n",
    "top_four_points_df = pd.DataFrame(top_four_points)\n",
    "top_four_points_df"
   ]
  },
  {
   "cell_type": "code",
   "execution_count": 41,
   "metadata": {},
   "outputs": [
    {
     "data": {
      "image/png": "[encoded data removed]",
      "text/plain": [
       "<Figure size 720x360 with 1 Axes>"
      ]
     },
     "metadata": {
      "needs_background": "light"
     },
     "output_type": "display_data"
    }
   ],
   "source": [
    "#create a line plot\n",
    "top_four_points_df.unstack().plot(figsize=(10,5), marker = \"o\")\n",
    "#get list of years for x axis\n",
    "year = top_four[\"Year\"].unique()\n",
    "plt.xticks(year)\n",
    "plt.xlabel(\"Olympic Years\")\n",
    "plt.ylabel(\"Points\")\n",
    "plt.title(\"Top 4 preformance 1976-2008\")\n",
    "plt.legend([\"Australia\",\"Soviet Union/Russia\", \"United States\", \"West Germany/Germany\"])\n",
    "plt.savefig(\"images/top_four_preformance.png\")\n",
    "plt.show()\n",
    "\n"
   ]
  },
  {
   "cell_type": "code",
   "execution_count": 42,
   "metadata": {},
   "outputs": [
    {
     "data": {
      "text/html": [
       "<div>\n",
       "<style scoped>\n",
       "    .dataframe tbody tr th:only-of-type {\n",
       "        vertical-align: middle;\n",
       "    }\n",
       "\n",
       "    .dataframe tbody tr th {\n",
       "        vertical-align: top;\n",
       "    }\n",
       "\n",
       "    .dataframe thead th {\n",
       "        text-align: right;\n",
       "    }\n",
       "</style>\n",
       "<table border=\"1\" class=\"dataframe\">\n",
       "  <thead>\n",
       "    <tr style=\"text-align: right;\">\n",
       "      <th>Country</th>\n",
       "      <th>Australia</th>\n",
       "      <th>Soviet Union/Russia</th>\n",
       "      <th>United States</th>\n",
       "      <th>West Germany/Germany</th>\n",
       "    </tr>\n",
       "    <tr>\n",
       "      <th>Year</th>\n",
       "      <th></th>\n",
       "      <th></th>\n",
       "      <th></th>\n",
       "      <th></th>\n",
       "    </tr>\n",
       "  </thead>\n",
       "  <tbody>\n",
       "    <tr>\n",
       "      <th>1976.0</th>\n",
       "      <td>40.0</td>\n",
       "      <td>604.0</td>\n",
       "      <td>337.0</td>\n",
       "      <td>141.0</td>\n",
       "    </tr>\n",
       "    <tr>\n",
       "      <th>1980.0</th>\n",
       "      <td>24.0</td>\n",
       "      <td>953.0</td>\n",
       "      <td>NaN</td>\n",
       "      <td>NaN</td>\n",
       "    </tr>\n",
       "    <tr>\n",
       "      <th>1984.0</th>\n",
       "      <td>78.0</td>\n",
       "      <td>NaN</td>\n",
       "      <td>784.0</td>\n",
       "      <td>293.0</td>\n",
       "    </tr>\n",
       "    <tr>\n",
       "      <th>1988.0</th>\n",
       "      <td>76.0</td>\n",
       "      <td>627.0</td>\n",
       "      <td>411.0</td>\n",
       "      <td>214.0</td>\n",
       "    </tr>\n",
       "    <tr>\n",
       "      <th>1992.0</th>\n",
       "      <td>112.0</td>\n",
       "      <td>NaN</td>\n",
       "      <td>452.0</td>\n",
       "      <td>417.0</td>\n",
       "    </tr>\n",
       "    <tr>\n",
       "      <th>1996.0</th>\n",
       "      <td>212.0</td>\n",
       "      <td>232.0</td>\n",
       "      <td>628.0</td>\n",
       "      <td>243.0</td>\n",
       "    </tr>\n",
       "    <tr>\n",
       "      <th>2000.0</th>\n",
       "      <td>372.0</td>\n",
       "      <td>388.0</td>\n",
       "      <td>574.0</td>\n",
       "      <td>204.0</td>\n",
       "    </tr>\n",
       "    <tr>\n",
       "      <th>2004.0</th>\n",
       "      <td>333.0</td>\n",
       "      <td>335.0</td>\n",
       "      <td>571.0</td>\n",
       "      <td>276.0</td>\n",
       "    </tr>\n",
       "    <tr>\n",
       "      <th>2008.0</th>\n",
       "      <td>253.0</td>\n",
       "      <td>273.0</td>\n",
       "      <td>674.0</td>\n",
       "      <td>201.0</td>\n",
       "    </tr>\n",
       "  </tbody>\n",
       "</table>\n",
       "</div>"
      ],
      "text/plain": [
       "Country  Australia  Soviet Union/Russia  United States  West Germany/Germany\n",
       "Year                                                                        \n",
       "1976.0        40.0                604.0          337.0                 141.0\n",
       "1980.0        24.0                953.0            NaN                   NaN\n",
       "1984.0        78.0                  NaN          784.0                 293.0\n",
       "1988.0        76.0                627.0          411.0                 214.0\n",
       "1992.0       112.0                  NaN          452.0                 417.0\n",
       "1996.0       212.0                232.0          628.0                 243.0\n",
       "2000.0       372.0                388.0          574.0                 204.0\n",
       "2004.0       333.0                335.0          571.0                 276.0\n",
       "2008.0       253.0                273.0          674.0                 201.0"
      ]
     },
     "execution_count": 42,
     "metadata": {},
     "output_type": "execute_result"
    }
   ],
   "source": [
    "utfp = top_four_points.unstack()\n",
    "utfp"
   ]
  },
  {
   "cell_type": "code",
   "execution_count": 43,
   "metadata": {},
   "outputs": [
    {
     "data": {
      "text/html": [
       "<div>\n",
       "<style scoped>\n",
       "    .dataframe tbody tr th:only-of-type {\n",
       "        vertical-align: middle;\n",
       "    }\n",
       "\n",
       "    .dataframe tbody tr th {\n",
       "        vertical-align: top;\n",
       "    }\n",
       "\n",
       "    .dataframe thead th {\n",
       "        text-align: right;\n",
       "    }\n",
       "</style>\n",
       "<table border=\"1\" class=\"dataframe\">\n",
       "  <thead>\n",
       "    <tr style=\"text-align: right;\">\n",
       "      <th></th>\n",
       "      <th>Year</th>\n",
       "      <th>Points</th>\n",
       "      <th>Country</th>\n",
       "      <th>Gender</th>\n",
       "    </tr>\n",
       "  </thead>\n",
       "  <tbody>\n",
       "    <tr>\n",
       "      <th>0</th>\n",
       "      <td>1976.0</td>\n",
       "      <td>2.0</td>\n",
       "      <td>East Germany</td>\n",
       "      <td>Women</td>\n",
       "    </tr>\n",
       "    <tr>\n",
       "      <th>1</th>\n",
       "      <td>1976.0</td>\n",
       "      <td>1.0</td>\n",
       "      <td>Soviet Union</td>\n",
       "      <td>Men</td>\n",
       "    </tr>\n",
       "    <tr>\n",
       "      <th>2</th>\n",
       "      <td>1976.0</td>\n",
       "      <td>3.0</td>\n",
       "      <td>United States</td>\n",
       "      <td>Men</td>\n",
       "    </tr>\n",
       "    <tr>\n",
       "      <th>3</th>\n",
       "      <td>1976.0</td>\n",
       "      <td>2.0</td>\n",
       "      <td>Italy</td>\n",
       "      <td>Men</td>\n",
       "    </tr>\n",
       "    <tr>\n",
       "      <th>4</th>\n",
       "      <td>1976.0</td>\n",
       "      <td>1.0</td>\n",
       "      <td>United States</td>\n",
       "      <td>Women</td>\n",
       "    </tr>\n",
       "    <tr>\n",
       "      <th>...</th>\n",
       "      <td>...</td>\n",
       "      <td>...</td>\n",
       "      <td>...</td>\n",
       "      <td>...</td>\n",
       "    </tr>\n",
       "    <tr>\n",
       "      <th>15428</th>\n",
       "      <td>2008.0</td>\n",
       "      <td>1.0</td>\n",
       "      <td>France</td>\n",
       "      <td>Men</td>\n",
       "    </tr>\n",
       "    <tr>\n",
       "      <th>15429</th>\n",
       "      <td>2008.0</td>\n",
       "      <td>3.0</td>\n",
       "      <td>Georgia</td>\n",
       "      <td>Men</td>\n",
       "    </tr>\n",
       "    <tr>\n",
       "      <th>15430</th>\n",
       "      <td>2008.0</td>\n",
       "      <td>2.0</td>\n",
       "      <td>Azerbaijan</td>\n",
       "      <td>Men</td>\n",
       "    </tr>\n",
       "    <tr>\n",
       "      <th>15431</th>\n",
       "      <td>2008.0</td>\n",
       "      <td>3.0</td>\n",
       "      <td>France</td>\n",
       "      <td>Men</td>\n",
       "    </tr>\n",
       "    <tr>\n",
       "      <th>15432</th>\n",
       "      <td>2008.0</td>\n",
       "      <td>3.0</td>\n",
       "      <td>Cuba</td>\n",
       "      <td>Men</td>\n",
       "    </tr>\n",
       "  </tbody>\n",
       "</table>\n",
       "<p>15433 rows × 4 columns</p>\n",
       "</div>"
      ],
      "text/plain": [
       "         Year  Points        Country Gender\n",
       "0      1976.0     2.0   East Germany  Women\n",
       "1      1976.0     1.0   Soviet Union    Men\n",
       "2      1976.0     3.0  United States    Men\n",
       "3      1976.0     2.0          Italy    Men\n",
       "4      1976.0     1.0  United States  Women\n",
       "...       ...     ...            ...    ...\n",
       "15428  2008.0     1.0         France    Men\n",
       "15429  2008.0     3.0        Georgia    Men\n",
       "15430  2008.0     2.0     Azerbaijan    Men\n",
       "15431  2008.0     3.0         France    Men\n",
       "15432  2008.0     3.0           Cuba    Men\n",
       "\n",
       "[15433 rows x 4 columns]"
      ]
     },
     "execution_count": 43,
     "metadata": {},
     "output_type": "execute_result"
    }
   ],
   "source": [
    "#create a DataFrame that contains Year, Points, Country, and Gender\n",
    "ycpg_df = olympics_data[[\"Year\", \"Points\", \"Country\", \"Gender\"]]\n",
    "ycpg_df"
   ]
  },
  {
   "cell_type": "code",
   "execution_count": 44,
   "metadata": {},
   "outputs": [
    {
     "name": "stderr",
     "output_type": "stream",
     "text": [
      "C:\\Users\\rbvan\\anaconda3\\envs\\PythonData\\lib\\site-packages\\ipykernel_launcher.py:2: SettingWithCopyWarning: \n",
      "A value is trying to be set on a copy of a slice from a DataFrame.\n",
      "Try using .loc[row_indexer,col_indexer] = value instead\n",
      "\n",
      "See the caveats in the documentation: https://pandas.pydata.org/pandas-docs/stable/user_guide/indexing.html#returning-a-view-versus-a-copy\n",
      "  \n",
      "C:\\Users\\rbvan\\anaconda3\\envs\\PythonData\\lib\\site-packages\\ipykernel_launcher.py:3: SettingWithCopyWarning: \n",
      "A value is trying to be set on a copy of a slice from a DataFrame.\n",
      "Try using .loc[row_indexer,col_indexer] = value instead\n",
      "\n",
      "See the caveats in the documentation: https://pandas.pydata.org/pandas-docs/stable/user_guide/indexing.html#returning-a-view-versus-a-copy\n",
      "  This is separate from the ipykernel package so we can avoid doing imports until\n",
      "C:\\Users\\rbvan\\anaconda3\\envs\\PythonData\\lib\\site-packages\\ipykernel_launcher.py:5: SettingWithCopyWarning: \n",
      "A value is trying to be set on a copy of a slice from a DataFrame.\n",
      "Try using .loc[row_indexer,col_indexer] = value instead\n",
      "\n",
      "See the caveats in the documentation: https://pandas.pydata.org/pandas-docs/stable/user_guide/indexing.html#returning-a-view-versus-a-copy\n",
      "  \"\"\"\n",
      "C:\\Users\\rbvan\\anaconda3\\envs\\PythonData\\lib\\site-packages\\ipykernel_launcher.py:6: SettingWithCopyWarning: \n",
      "A value is trying to be set on a copy of a slice from a DataFrame.\n",
      "Try using .loc[row_indexer,col_indexer] = value instead\n",
      "\n",
      "See the caveats in the documentation: https://pandas.pydata.org/pandas-docs/stable/user_guide/indexing.html#returning-a-view-versus-a-copy\n",
      "  \n"
     ]
    },
    {
     "data": {
      "text/html": [
       "<div>\n",
       "<style scoped>\n",
       "    .dataframe tbody tr th:only-of-type {\n",
       "        vertical-align: middle;\n",
       "    }\n",
       "\n",
       "    .dataframe tbody tr th {\n",
       "        vertical-align: top;\n",
       "    }\n",
       "\n",
       "    .dataframe thead th {\n",
       "        text-align: right;\n",
       "    }\n",
       "</style>\n",
       "<table border=\"1\" class=\"dataframe\">\n",
       "  <thead>\n",
       "    <tr style=\"text-align: right;\">\n",
       "      <th></th>\n",
       "      <th>Year</th>\n",
       "      <th>Points</th>\n",
       "      <th>Country</th>\n",
       "      <th>Gender</th>\n",
       "    </tr>\n",
       "  </thead>\n",
       "  <tbody>\n",
       "    <tr>\n",
       "      <th>1</th>\n",
       "      <td>1976.0</td>\n",
       "      <td>1.0</td>\n",
       "      <td>Soviet Union/Russia</td>\n",
       "      <td>Men</td>\n",
       "    </tr>\n",
       "    <tr>\n",
       "      <th>2</th>\n",
       "      <td>1976.0</td>\n",
       "      <td>3.0</td>\n",
       "      <td>United States</td>\n",
       "      <td>Men</td>\n",
       "    </tr>\n",
       "    <tr>\n",
       "      <th>4</th>\n",
       "      <td>1976.0</td>\n",
       "      <td>1.0</td>\n",
       "      <td>United States</td>\n",
       "      <td>Women</td>\n",
       "    </tr>\n",
       "    <tr>\n",
       "      <th>5</th>\n",
       "      <td>1976.0</td>\n",
       "      <td>2.0</td>\n",
       "      <td>United States</td>\n",
       "      <td>Men</td>\n",
       "    </tr>\n",
       "    <tr>\n",
       "      <th>6</th>\n",
       "      <td>1976.0</td>\n",
       "      <td>3.0</td>\n",
       "      <td>Soviet Union/Russia</td>\n",
       "      <td>Women</td>\n",
       "    </tr>\n",
       "    <tr>\n",
       "      <th>...</th>\n",
       "      <td>...</td>\n",
       "      <td>...</td>\n",
       "      <td>...</td>\n",
       "      <td>...</td>\n",
       "    </tr>\n",
       "    <tr>\n",
       "      <th>15413</th>\n",
       "      <td>2008.0</td>\n",
       "      <td>3.0</td>\n",
       "      <td>Soviet Union/Russia</td>\n",
       "      <td>Men</td>\n",
       "    </tr>\n",
       "    <tr>\n",
       "      <th>15420</th>\n",
       "      <td>2008.0</td>\n",
       "      <td>1.0</td>\n",
       "      <td>United States</td>\n",
       "      <td>Men</td>\n",
       "    </tr>\n",
       "    <tr>\n",
       "      <th>15422</th>\n",
       "      <td>2008.0</td>\n",
       "      <td>3.0</td>\n",
       "      <td>Soviet Union/Russia</td>\n",
       "      <td>Men</td>\n",
       "    </tr>\n",
       "    <tr>\n",
       "      <th>15426</th>\n",
       "      <td>2008.0</td>\n",
       "      <td>2.0</td>\n",
       "      <td>West Germany/Germany</td>\n",
       "      <td>Men</td>\n",
       "    </tr>\n",
       "    <tr>\n",
       "      <th>15427</th>\n",
       "      <td>2008.0</td>\n",
       "      <td>2.0</td>\n",
       "      <td>Soviet Union/Russia</td>\n",
       "      <td>Men</td>\n",
       "    </tr>\n",
       "  </tbody>\n",
       "</table>\n",
       "<p>5485 rows × 4 columns</p>\n",
       "</div>"
      ],
      "text/plain": [
       "         Year  Points               Country Gender\n",
       "1      1976.0     1.0   Soviet Union/Russia    Men\n",
       "2      1976.0     3.0         United States    Men\n",
       "4      1976.0     1.0         United States  Women\n",
       "5      1976.0     2.0         United States    Men\n",
       "6      1976.0     3.0   Soviet Union/Russia  Women\n",
       "...       ...     ...                   ...    ...\n",
       "15413  2008.0     3.0   Soviet Union/Russia    Men\n",
       "15420  2008.0     1.0         United States    Men\n",
       "15422  2008.0     3.0   Soviet Union/Russia    Men\n",
       "15426  2008.0     2.0  West Germany/Germany    Men\n",
       "15427  2008.0     2.0   Soviet Union/Russia    Men\n",
       "\n",
       "[5485 rows x 4 columns]"
      ]
     },
     "execution_count": 44,
     "metadata": {},
     "output_type": "execute_result"
    }
   ],
   "source": [
    "#rename Soviet Union and Russia to Soviet Union/Russia\n",
    "ycpg_df[\"Country\"] = ycpg_df[\"Country\"].replace([\"Soviet Union\"], \"Soviet Union/Russia\")\n",
    "ycpg_df[\"Country\"] = ycpg_df[\"Country\"].replace([\"Russia\"], \"Soviet Union/Russia\")\n",
    "#rename West Germany and Germany to West Germany/Germany\n",
    "ycpg_df[\"Country\"] = ycpg_df[\"Country\"].replace([\"West Germany\"], \"West Germany/Germany\")\n",
    "ycpg_df[\"Country\"] = ycpg_df[\"Country\"].replace([\"Germany\"], \"West Germany/Germany\")\n",
    "\n",
    "#create a DataFrame containing Top 4\n",
    "topfourg = [\"United States\", \"Soviet Union/Russia\", \"West Germany/Germany\", \"Australia\"]\n",
    "top_fourg = ycpg_df[ycpg_df[\"Country\"].isin(topfour)]\n",
    "top_fourg"
   ]
  },
  {
   "cell_type": "code",
   "execution_count": 45,
   "metadata": {},
   "outputs": [],
   "source": [
    "#create DataFrames for each gender\n",
    "top_four_w = top_fourg[top_fourg[\"Gender\"]==(\"Women\")]\n",
    "top_four_m = top_fourg[top_fourg[\"Gender\"]==(\"Men\")]"
   ]
  },
  {
   "cell_type": "code",
   "execution_count": 46,
   "metadata": {},
   "outputs": [
    {
     "name": "stdout",
     "output_type": "stream",
     "text": [
      "                             Points\n",
      "Year   Country                     \n",
      "1976.0 Soviet Union/Russia    230.0\n",
      "       United States           90.0\n",
      "       West Germany/Germany    21.0\n",
      "1980.0 Australia                4.0\n",
      "       Soviet Union/Russia    297.0\n",
      "1984.0 Australia               15.0\n",
      "       United States          300.0\n",
      "       West Germany/Germany    86.0\n",
      "1988.0 Australia               56.0\n",
      "       Soviet Union/Russia    161.0\n",
      "       United States          137.0\n",
      "       West Germany/Germany    46.0\n",
      "1992.0 Australia               19.0\n",
      "       United States          184.0\n",
      "       West Germany/Germany   162.0\n",
      "1996.0 Australia              124.0\n",
      "       Soviet Union/Russia     57.0\n",
      "       United States          347.0\n",
      "       West Germany/Germany    92.0\n",
      "2000.0 Australia              193.0\n",
      "       Soviet Union/Russia    178.0\n",
      "       United States          290.0\n",
      "       West Germany/Germany    99.0\n",
      "2004.0 Australia              130.0\n",
      "       Soviet Union/Russia    188.0\n",
      "       United States          319.0\n",
      "       West Germany/Germany   145.0\n",
      "2008.0 Australia              151.0\n",
      "       Soviet Union/Russia    172.0\n",
      "       United States          358.0\n",
      "       West Germany/Germany    76.0\n",
      "                             Points\n",
      "Year   Country                     \n",
      "1976.0 Australia               40.0\n",
      "       Soviet Union/Russia    374.0\n",
      "       United States          247.0\n",
      "       West Germany/Germany   120.0\n",
      "1980.0 Australia               20.0\n",
      "       Soviet Union/Russia    656.0\n",
      "1984.0 Australia               63.0\n",
      "       United States          484.0\n",
      "       West Germany/Germany   207.0\n",
      "1988.0 Australia               20.0\n",
      "       Soviet Union/Russia    466.0\n",
      "       United States          274.0\n",
      "       West Germany/Germany   168.0\n",
      "1992.0 Australia               93.0\n",
      "       United States          268.0\n",
      "       West Germany/Germany   255.0\n",
      "1996.0 Australia               88.0\n",
      "       Soviet Union/Russia    175.0\n",
      "       United States          281.0\n",
      "       West Germany/Germany   151.0\n",
      "2000.0 Australia              179.0\n",
      "       Soviet Union/Russia    210.0\n",
      "       United States          284.0\n",
      "       West Germany/Germany   105.0\n",
      "2004.0 Australia              203.0\n",
      "       Soviet Union/Russia    147.0\n",
      "       United States          252.0\n",
      "       West Germany/Germany   131.0\n",
      "2008.0 Australia              102.0\n",
      "       Soviet Union/Russia    101.0\n",
      "       United States          316.0\n",
      "       West Germany/Germany   125.0\n"
     ]
    }
   ],
   "source": [
    "#group each DataFrame by Year and Country\n",
    "top_four_points_w = top_four_w.groupby([\"Year\",\"Country\"])[\"Points\"].sum()\n",
    "top_four_points_w_df = pd.DataFrame(top_four_points_w)\n",
    "\n",
    "top_four_points_m = top_four_m.groupby([\"Year\",\"Country\"])[\"Points\"].sum()\n",
    "top_four_points_m_df = pd.DataFrame(top_four_points_m)\n",
    "\n",
    "print(top_four_points_w_df)\n",
    "print(top_four_points_m_df)"
   ]
  },
  {
   "cell_type": "code",
   "execution_count": 47,
   "metadata": {},
   "outputs": [
    {
     "data": {
      "image/png": "[encoded data removed]",
      "text/plain": [
       "<Figure size 720x360 with 1 Axes>"
      ]
     },
     "metadata": {
      "needs_background": "light"
     },
     "output_type": "display_data"
    },
    {
     "data": {
      "image/png": "[encoded data removed]",
      "text/plain": [
       "<Figure size 720x360 with 1 Axes>"
      ]
     },
     "metadata": {
      "needs_background": "light"
     },
     "output_type": "display_data"
    }
   ],
   "source": [
    "#create a line plot for each DataFrame\n",
    "top_four_points_w_df.unstack().plot(figsize=(10,5), marker = \"o\")\n",
    "#get list of years for x axis\n",
    "year = top_four[\"Year\"].unique()\n",
    "ypoint = [0, 100, 200, 300, 400, 500, 600, 700]\n",
    "plt.xticks(year)\n",
    "plt.yticks(ypoint)\n",
    "plt.xlabel(\"Olympic Years\")\n",
    "plt.ylabel(\"Points\")\n",
    "plt.title(\"Top 4 preformance 1976-2008(Women)\")\n",
    "plt.legend([\"Australia\",\"Soviet Union/Russia\", \"United States\", \"West Germany/Germany\"])\n",
    "plt.savefig(\"images/top_four_w_preformance.png\")\n",
    "\n",
    "plt.show()\n",
    "\n",
    "#create a line plot\n",
    "top_four_points_m_df.unstack().plot(figsize=(10,5), marker = \"o\")\n",
    "#get list of years for x axis\n",
    "year = top_four[\"Year\"].unique()\n",
    "plt.xticks(year)\n",
    "plt.yticks(ypoint)\n",
    "plt.xlabel(\"Olympic Years\")\n",
    "plt.ylabel(\"Points\")\n",
    "plt.title(\"Top 4 preformance 1976-2008(Men)\")\n",
    "plt.legend([\"Australia\",\"Soviet Union/Russia\", \"United States\", \"West Germany/Germany\"])\n",
    "plt.savefig(\"images/top_four_m_preformance.png\")\n",
    "\n",
    "plt.show()"
   ]
  },
  {
   "cell_type": "markdown",
   "metadata": {},
   "source": [
    "# Comparing the Results of Countries Pre- and Post- Extreme Regime Changes"
   ]
  },
  {
   "cell_type": "markdown",
   "metadata": {},
   "source": [
    "There were 15 countries in the Soviet Union: Armenia, Azerbaijan, Belarus, Estonia, Georgia, Kazakhstan, Kyrgyzstan, Latvia, Lithuania, Moldova, Russia, Tajikistan, Turkmenistan, Ukraine, and Uzbekistan (https://www.infobloom.com/which-countries-were-part-of-the-soviet-union.htm). East and West Germany became one united Germany. This section looks at the performance of the Soviet Union's perforance during the olympics pre-1996 (since it collapsed in 1991, but the countries competed together in 1992) and compares it to the performance of these 15 countries from 1992 on. Similarly, the performances of East and West Germany during the olympics pre-1992 (since they unified in 1990 (https://www.history.com/this-day-in-history/east-and-west-germany-reunite-after-45-years)) will be compared to the performance of Germany from 1992 on. - Kaylie S."
   ]
  },
  {
   "cell_type": "code",
   "execution_count": 48,
   "metadata": {},
   "outputs": [
    {
     "data": {
      "text/plain": [
       "array(['Afghanistan', 'Algeria', 'Argentina', 'Armenia', 'Australia',\n",
       "       'Austria', 'Azerbaijan', 'Bahamas', 'Barbados', 'Belarus',\n",
       "       'Belgium', 'Bermuda*', 'Brazil', 'Bulgaria', 'Burundi', 'Cameroon',\n",
       "       'Canada', 'Chile', 'China', 'Colombia', 'Costa Rica',\n",
       "       \"Cote d'Ivoire\", 'Croatia', 'Cuba', 'Czech Republic',\n",
       "       'Czechoslovakia', 'Denmark', 'Djibouti', 'Dominican Republic',\n",
       "       'East Germany', 'Ecuador', 'Egypt', 'Eritrea', 'Estonia',\n",
       "       'Ethiopia', 'Finland', 'France', 'Georgia', 'Germany', 'Ghana',\n",
       "       'Greece', 'Guyana', 'Hong Kong*', 'Hungary', 'Iceland',\n",
       "       'Independent Olympic Participants (1992)', 'India', 'Indonesia',\n",
       "       'Iran', 'Ireland', 'Israel', 'Italy', 'Jamaica', 'Japan',\n",
       "       'Kazakhstan', 'Kenya', 'Korea, North', 'Korea, South', 'Kuwait',\n",
       "       'Kyrgyzstan', 'Latvia', 'Lebanon', 'Lithuania', 'Macedonia',\n",
       "       'Malaysia', 'Mauritius', 'Mexico', 'Moldova', 'Mongolia',\n",
       "       'Morocco', 'Mozambique', 'Namibia', 'Netherlands',\n",
       "       'Netherlands Antilles*', 'New Zealand', 'Nigeria', 'Norway',\n",
       "       'Pakistan', 'Panama', 'Paraguay', 'Peru', 'Philippines', 'Poland',\n",
       "       'Portugal', 'Puerto Rico*', 'Qatar', 'Romania', 'Russia',\n",
       "       'Saudi Arabia', 'Senegal', 'Serbia', 'Singapore', 'Slovakia',\n",
       "       'Slovenia', 'South Africa', 'Soviet Union', 'Spain', 'Sri Lanka',\n",
       "       'Sudan', 'Suriname', 'Sweden', 'Switzerland', 'Syria', 'Taiwan',\n",
       "       'Tajikistan', 'Tanzania', 'Thailand', 'Togo', 'Tonga',\n",
       "       'Trinidad and Tobago', 'Tunisia', 'Turkey', 'Uganda', 'Ukraine',\n",
       "       'Unified team', 'United Arab Emirates', 'United Kingdom',\n",
       "       'United States', 'Uruguay', 'Uzbekistan', 'Venezuela', 'Vietnam',\n",
       "       'Virgin Islands*', 'West Germany', 'Yugoslavia', 'Zambia',\n",
       "       'Zimbabwe', nan], dtype=object)"
      ]
     },
     "execution_count": 48,
     "metadata": {},
     "output_type": "execute_result"
    }
   ],
   "source": [
    "#seeing which countries appear on the list\n",
    "olympics_data[\"Country\"].sort_values().unique()"
   ]
  },
  {
   "cell_type": "markdown",
   "metadata": {},
   "source": [
    "We can see from above that from 1992 to 2008, Turkmenistan did not win a medal at all, and will not be included in the analysis until the end."
   ]
  },
  {
   "cell_type": "code",
   "execution_count": 49,
   "metadata": {},
   "outputs": [],
   "source": [
    "#group the olymics data by country\n",
    "country_olympics_data = olympics_data.groupby(\"Country\")\n",
    "\n",
    "#pull the data for the Soviet Union and former Soviet countries into separate dataframes\n",
    "soviet_data = country_olympics_data.get_group(\"Soviet Union\").reset_index()\n",
    "armenia_data = country_olympics_data.get_group(\"Armenia\").reset_index()\n",
    "azerbaijan_data = country_olympics_data.get_group(\"Azerbaijan\").reset_index()\n",
    "belarus_data = country_olympics_data.get_group(\"Belarus\").reset_index()\n",
    "estonia_data = country_olympics_data.get_group(\"Estonia\").reset_index()\n",
    "georgia_data = country_olympics_data.get_group(\"Georgia\").reset_index()\n",
    "kazakhstan_data = country_olympics_data.get_group(\"Kazakhstan\").reset_index()\n",
    "kyrgyzstan_data = country_olympics_data.get_group(\"Kyrgyzstan\").reset_index()\n",
    "latvia_data = country_olympics_data.get_group(\"Latvia\").reset_index()\n",
    "lithuania_data = country_olympics_data.get_group(\"Lithuania\").reset_index()\n",
    "moldova_data = country_olympics_data.get_group(\"Moldova\").reset_index()\n",
    "russia_data = country_olympics_data.get_group(\"Russia\").reset_index()\n",
    "tajikistan_data = country_olympics_data.get_group(\"Tajikistan\").reset_index()\n",
    "ukraine_data = country_olympics_data.get_group(\"Ukraine\").reset_index()\n",
    "uzbekistan_data = country_olympics_data.get_group(\"Uzbekistan\").reset_index()\n",
    "\n",
    "#pull the data for East, West, and united Germany into separate dataframes\n",
    "east_germany_data = country_olympics_data.get_group(\"East Germany\").reset_index()\n",
    "west_germany_data = country_olympics_data.get_group(\"West Germany\").reset_index()\n",
    "germany_data = country_olympics_data.get_group(\"Germany\").reset_index()"
   ]
  },
  {
   "cell_type": "code",
   "execution_count": 50,
   "metadata": {},
   "outputs": [],
   "source": [
    "#saving pre and post collapse countries to lists\n",
    "pre_collapse_dfs = [soviet_data, east_germany_data, west_germany_data]\n",
    "post_collapse_dfs = [armenia_data, azerbaijan_data, belarus_data, estonia_data, georgia_data, kazakhstan_data, kyrgyzstan_data, \n",
    "                latvia_data, lithuania_data, moldova_data, russia_data, tajikistan_data, ukraine_data, uzbekistan_data, germany_data]"
   ]
  },
  {
   "cell_type": "markdown",
   "metadata": {},
   "source": [
    "Here, the total medal counts for the country, regardless of year, are calculated."
   ]
  },
  {
   "cell_type": "code",
   "execution_count": 51,
   "metadata": {},
   "outputs": [],
   "source": [
    "#lists for countries and medal counts\n",
    "countries_pre = []\n",
    "golds_pre = []\n",
    "silvers_pre = []\n",
    "bronzes_pre = []\n",
    "\n",
    "countries_post = []\n",
    "golds_post = []\n",
    "silvers_post = []\n",
    "bronzes_post = []\n",
    "\n",
    "#create functions to give a total medal count\n",
    "def total_medal_count_pre(df):\n",
    "    #convert medal counts to dictionary\n",
    "    counts = df[\"Medal\"].value_counts().to_dict()\n",
    "    countries_pre.append(df[\"Country\"][0])\n",
    "    #get the value of each key to append to the lists, with \"0\" appending if no value exists\n",
    "    golds_pre.append(counts.get((\"Gold\"), 0))\n",
    "    silvers_pre.append(counts.get((\"Silver\"), 0))\n",
    "    bronzes_pre.append(counts.get((\"Bronze\"), 0))\n",
    "    \n",
    "def total_medal_count_post(df):\n",
    "    #convert medal counts to dictionary\n",
    "    counts = df[\"Medal\"].value_counts().to_dict()\n",
    "    countries_post.append(df[\"Country\"][0])\n",
    "    #get the value of each key to append to the lists, with \"0\" appending if no value exists\n",
    "    golds_post.append(counts.get((\"Gold\"), 0))\n",
    "    silvers_post.append(counts.get((\"Silver\"), 0))\n",
    "    bronzes_post.append(counts.get((\"Bronze\"), 0))\n",
    "    \n",
    "#running the function on all countries\n",
    "for country in pre_collapse_dfs:\n",
    "    total_medal_count_pre(country)\n",
    "    \n",
    "for country in post_collapse_dfs:\n",
    "    total_medal_count_post(country)"
   ]
  },
  {
   "cell_type": "markdown",
   "metadata": {},
   "source": [
    "Below we are comparing East and West Germany(1976-1988) to Germany (1992-2008)."
   ]
  },
  {
   "cell_type": "code",
   "execution_count": 52,
   "metadata": {},
   "outputs": [
    {
     "data": {
      "image/png": "[encoded data removed]",
      "text/plain": [
       "<Figure size 432x288 with 1 Axes>"
      ]
     },
     "metadata": {
      "needs_background": "light"
     },
     "output_type": "display_data"
    }
   ],
   "source": [
    "#setting up Germany comparison\n",
    "german_comparison = {\n",
    "    \"Countries\": [countries_pre[1], countries_pre[2], countries_post[-1]],\n",
    "    \"Golds\": [golds_pre[1], golds_pre[2], golds_post[-1]],\n",
    "    \"Silvers\": [silvers_pre[1], silvers_pre[2], silvers_post[-1]],\n",
    "    \"Bronzes\": [bronzes_pre[1], bronzes_pre[2], bronzes_post[-1]],\n",
    "}\n",
    "\n",
    "#plotting germany comparison\n",
    "width = 0.275\n",
    "x_germ = np.array(range(len(pre_collapse_dfs)))\n",
    "\n",
    "plt.bar(x_germ + width, german_comparison[\"Golds\"], width=width, color=\"#d2b103\", label=\"Gold Medals\")\n",
    "plt.bar(x_germ, german_comparison[\"Silvers\"], width=width, color=\"#c9c8c4\", label=\"Silver Medals\")\n",
    "plt.bar(x_germ - width, german_comparison[\"Bronzes\"], width=width, color=\"#8b8251\", label=\"Bronze Medals\")\n",
    "plt.xticks(x_germ, german_comparison[\"Countries\"])\n",
    "plt.title(\"East and West Germany (1976-1988) vs Germany (1992-2008)\")\n",
    "plt.ylabel(\"Number of Medals\")\n",
    "plt.xlabel(\"Country\")\n",
    "plt.legend()\n",
    "\n",
    "plt.savefig(\"images/german_separate_comparison.png\", bbox_inches=\"tight\")\n",
    "plt.show()"
   ]
  },
  {
   "cell_type": "code",
   "execution_count": 53,
   "metadata": {},
   "outputs": [
    {
     "data": {
      "image/png": "[encoded data removed]",
      "text/plain": [
       "<Figure size 432x288 with 1 Axes>"
      ]
     },
     "metadata": {
      "needs_background": "light"
     },
     "output_type": "display_data"
    }
   ],
   "source": [
    "#combining east and west germany stats\n",
    "ew_germany = \"East and West Germany (Combined)\"\n",
    "ew_golds = sum(golds_pre[1:])\n",
    "ew_silvers= sum(silvers_pre[1:])\n",
    "ew_bronzes = sum(bronzes_pre[1:])\n",
    "\n",
    "combined_german_comparison = {\n",
    "    \"Countries\": [ew_germany, countries_post[-1]],\n",
    "    \"Golds\": [ew_golds, golds_post[-1]],\n",
    "    \"Silvers\": [ew_silvers, silvers_post[-1]],\n",
    "    \"Bronzes\": [ew_bronzes, bronzes_post[-1]],\n",
    "}\n",
    "\n",
    "#plotting germany comparison\n",
    "width = 0.275\n",
    "x_germ_com = np.array(range(2))\n",
    "\n",
    "plt.bar(x_germ_com + width, combined_german_comparison[\"Golds\"], width=width, color=\"#d2b103\", label=\"Gold Medals\")\n",
    "plt.bar(x_germ_com, combined_german_comparison[\"Silvers\"], width=width, color=\"#c9c8c4\", label=\"Silver Medals\")\n",
    "plt.bar(x_germ_com - width, combined_german_comparison[\"Bronzes\"], width=width, color=\"#8b8251\", label=\"Bronze Medals\")\n",
    "plt.xticks(x_germ_com, combined_german_comparison[\"Countries\"])\n",
    "plt.title(\"East and West Germany Combined (1976-1988) vs Germany (1992-2008)\")\n",
    "plt.ylabel(\"Number of Medals\")\n",
    "plt.xlabel(\"Country\")\n",
    "plt.legend()\n",
    "\n",
    "plt.savefig(\"images/german_combined_comparison.png\", bbox_inches=\"tight\")\n",
    "plt.show()"
   ]
  },
  {
   "cell_type": "markdown",
   "metadata": {},
   "source": [
    "Below we are comparing the Soviet Union (1976-1988) to all the former Soviet countries (1992-2008)."
   ]
  },
  {
   "cell_type": "code",
   "execution_count": 54,
   "metadata": {},
   "outputs": [
    {
     "data": {
      "image/png": "[encoded data removed]",
      "text/plain": [
       "<Figure size 432x288 with 1 Axes>"
      ]
     },
     "metadata": {
      "needs_background": "light"
     },
     "output_type": "display_data"
    }
   ],
   "source": [
    "#setting up Soviet comparison\n",
    "soviet_countries = countries_post[:-1]\n",
    "soviet_countries.append(countries_pre[0])\n",
    "soviet_golds = golds_post[:-1]\n",
    "soviet_golds.append(golds_pre[0])\n",
    "soviet_silvers = silvers_post[:-1]\n",
    "soviet_silvers.append(silvers_pre[0])\n",
    "soviet_bronzes = bronzes_post[:-1]\n",
    "soviet_bronzes.append(bronzes_pre[0])\n",
    "\n",
    "#plotting soviet comparison\n",
    "width = 0.275\n",
    "x_sov = np.array(range(len(post_collapse_dfs)))\n",
    "\n",
    "plt.bar(x_sov + width, soviet_golds, width=width, color=\"#d2b103\", label=\"Gold Medals\")\n",
    "plt.bar(x_sov, soviet_silvers, width=width, color=\"#c9c8c4\", label=\"Silver Medals\")\n",
    "plt.bar(x_sov - width, soviet_bronzes, width=width, color=\"#8b8251\", label=\"Bronze Medals\")\n",
    "plt.xticks(x_sov, soviet_countries, rotation=90)\n",
    "plt.title(\"Soviet Union (1976-1992) vs Former Soviet Countries (1996-2008)\")\n",
    "plt.ylabel(\"Number of Medals\")\n",
    "plt.xlabel(\"Country\")\n",
    "plt.legend()\n",
    "\n",
    "plt.savefig(\"images/soviet_separate_comparison.png\", bbox_inches=\"tight\")\n",
    "plt.show()"
   ]
  },
  {
   "cell_type": "code",
   "execution_count": 55,
   "metadata": {},
   "outputs": [
    {
     "data": {
      "image/png": "[encoded data removed]",
      "text/plain": [
       "<Figure size 432x288 with 1 Axes>"
      ]
     },
     "metadata": {
      "needs_background": "light"
     },
     "output_type": "display_data"
    }
   ],
   "source": [
    "#combining post soviet country data\n",
    "post_soviet_countries = [\"Former Soviet Union Countries\", \"Soviet Union\"]\n",
    "post_soviet_golds = [sum(golds_post[:-1]), golds_pre[0]]\n",
    "post_soviet_silvers = [sum(silvers_post[:-1]), silvers_pre[0]]\n",
    "post_soviet_bronzes = [sum(bronzes_post[:-1]), bronzes_pre[0]]\n",
    "\n",
    "#plotting soviet comparison\n",
    "width = 0.275\n",
    "x_sov_combined = np.array(range(2))\n",
    "\n",
    "plt.bar(x_sov_combined + width, post_soviet_golds, width=width, color=\"#d2b103\", label=\"Gold Medals\")\n",
    "plt.bar(x_sov_combined, post_soviet_silvers, width=width, color=\"#c9c8c4\", label=\"Silver Medals\")\n",
    "plt.bar(x_sov_combined - width, post_soviet_bronzes, width=width, color=\"#8b8251\", label=\"Bronze Medals\")\n",
    "plt.xticks(x_sov_combined, post_soviet_countries)\n",
    "plt.title(\"Soviet Union (1976-1992) vs Former Soviet Countries Combined (1996-2008)\")\n",
    "plt.ylabel(\"Number of Medals\")\n",
    "plt.xlabel(\"Country\")\n",
    "plt.legend()\n",
    "\n",
    "plt.savefig(\"images/soviet_combined_comparison.png\", bbox_inches=\"tight\")\n",
    "plt.show()"
   ]
  },
  {
   "cell_type": "markdown",
   "metadata": {},
   "source": [
    "Below we have the data grouped by pre-Soviet collapse (1976-1988) and post-Soviet collapse (1992-2008)."
   ]
  },
  {
   "cell_type": "code",
   "execution_count": 56,
   "metadata": {},
   "outputs": [
    {
     "data": {
      "image/png": "[encoded data removed]",
      "text/plain": [
       "<Figure size 432x288 with 1 Axes>"
      ]
     },
     "metadata": {
      "needs_background": "light"
     },
     "output_type": "display_data"
    }
   ],
   "source": [
    "#plotting pre-collapse comparisons\n",
    "width = 0.275\n",
    "x_pre = np.array(range(len(pre_collapse_dfs)))\n",
    "\n",
    "plt.bar(x_pre + width, golds_pre, width=width, color=\"#d2b103\", label=\"Gold Medals\")\n",
    "plt.bar(x_pre, silvers_pre, width=width, color=\"#c9c8c4\", label=\"Silver Medals\")\n",
    "plt.bar(x_pre - width, bronzes_pre, width=width, color=\"#8b8251\", label=\"Bronze Medals\")\n",
    "plt.xticks(x_pre, countries_pre)\n",
    "plt.title(\"Pre Soviet Collapse Results\")\n",
    "plt.ylabel(\"Number of Medals\")\n",
    "plt.xlabel(\"Country\")\n",
    "plt.legend()\n",
    "\n",
    "plt.savefig(\"images/pre_collapse_comparison.png\", bbox_inches=\"tight\")\n",
    "plt.show()"
   ]
  },
  {
   "cell_type": "code",
   "execution_count": 57,
   "metadata": {},
   "outputs": [
    {
     "data": {
      "image/png": "[encoded data removed]",
      "text/plain": [
       "<Figure size 432x288 with 1 Axes>"
      ]
     },
     "metadata": {
      "needs_background": "light"
     },
     "output_type": "display_data"
    }
   ],
   "source": [
    "#plotting post-collapse comparisons\n",
    "width = 0.275\n",
    "x_post = np.array(range(len(post_collapse_dfs)))\n",
    "\n",
    "plt.bar(x_post + width, golds_post, width=width, color=\"#d2b103\", label=\"Gold Medals\")\n",
    "plt.bar(x_post, silvers_post, width=width, color=\"#c9c8c4\", label=\"Silver Medals\")\n",
    "plt.bar(x_post - width, bronzes_post, width=width, color=\"#8b8251\", label=\"Bronze Medals\")\n",
    "plt.xticks(x_post, countries_post, rotation=90)\n",
    "plt.title(\"Post Soviet Collapse Results\")\n",
    "plt.ylabel(\"Number of Medals\")\n",
    "plt.xlabel(\"Country\")\n",
    "plt.legend()\n",
    "\n",
    "plt.savefig(\"images/post_collapse_comparison.png\", bbox_inches=\"tight\")\n",
    "plt.show()"
   ]
  },
  {
   "cell_type": "markdown",
   "metadata": {},
   "source": [
    "Below, we're comparing the overall points values of the medals for the Soviet Union and former Soviet countries, then comparing the total medal values for East and West Germany to unified Germany."
   ]
  },
  {
   "cell_type": "code",
   "execution_count": 58,
   "metadata": {},
   "outputs": [],
   "source": [
    "#finding the total value of the points for each country\n",
    "#setting lists to hold medal points totals\n",
    "pre_collapse_points = []\n",
    "post_collapse_points = []\n",
    "\n",
    "#running through pre collapse countries to pull points\n",
    "for df in pre_collapse_dfs:\n",
    "    points = df[\"Points\"].sum()\n",
    "    pre_collapse_points.append(points)\n",
    "    \n",
    "#running through post collapse countries to pull points\n",
    "for df in post_collapse_dfs:\n",
    "    points = df[\"Points\"].sum()\n",
    "    post_collapse_points.append(points)"
   ]
  },
  {
   "cell_type": "code",
   "execution_count": 59,
   "metadata": {},
   "outputs": [
    {
     "data": {
      "image/png": "[encoded data removed]",
      "text/plain": [
       "<Figure size 432x288 with 1 Axes>"
      ]
     },
     "metadata": {
      "needs_background": "light"
     },
     "output_type": "display_data"
    }
   ],
   "source": [
    "#comparing Soviet countries to the USSR\n",
    "soviet_countries_points = post_collapse_points[:-1]\n",
    "soviet_countries_points.append(pre_collapse_points[0])\n",
    "\n",
    "#some plot data pulled from previous plots\n",
    "plt.bar(x_sov, soviet_countries_points, color=\"r\")\n",
    "plt.xticks(x_sov, soviet_countries, rotation=90)\n",
    "plt.title(\"Soviet Union (1976-1992) vs Former Soviet Countries (1996-2008)\")\n",
    "plt.ylabel(\"Medal Score (Points)\")\n",
    "plt.xlabel(\"Country\")\n",
    "\n",
    "plt.savefig(\"images/soviet_separate_comparison_by_points.png\", bbox_inches=\"tight\")\n",
    "plt.show()"
   ]
  },
  {
   "cell_type": "code",
   "execution_count": 60,
   "metadata": {},
   "outputs": [
    {
     "data": {
      "image/png": "[encoded data removed]",
      "text/plain": [
       "<Figure size 432x288 with 1 Axes>"
      ]
     },
     "metadata": {
      "needs_background": "light"
     },
     "output_type": "display_data"
    }
   ],
   "source": [
    "#comparing Germany to East and West Germany\n",
    "germ_countries_points = pre_collapse_points[1:]\n",
    "germ_countries_points.append(post_collapse_points[-1])\n",
    "\n",
    "#plotting\n",
    "plt.bar(x_germ, germ_countries_points, color=\"g\")\n",
    "plt.xticks(x_germ, german_comparison[\"Countries\"])\n",
    "plt.title(\"East and West Germany (1976-1988) vs Germany (1992-2008)\")\n",
    "plt.ylabel(\"Medal Score (Points)\")\n",
    "plt.xlabel(\"Country\")\n",
    "\n",
    "plt.savefig(\"images/german_separate_comparison_by_points.png\", bbox_inches=\"tight\")\n",
    "plt.show()"
   ]
  },
  {
   "cell_type": "markdown",
   "metadata": {},
   "source": [
    "# Top Performers the Year the Event is Introduced"
   ]
  },
  {
   "cell_type": "markdown",
   "metadata": {},
   "source": [
    "This section looks at every sport the year it was introduced and returns the country that won the gold for that event."
   ]
  },
  {
   "cell_type": "code",
   "execution_count": 61,
   "metadata": {},
   "outputs": [],
   "source": [
    "#group the data by event\n",
    "events_data = olympics_data.groupby(\"Event\")\n",
    "#get the first year for each event and save it to a list\n",
    "first_years = events_data[\"Year\"].first()\n",
    "#dictionary of first year, sport, gender, and country\n",
    "first_golds = {}\n",
    "\n",
    "#running through the dataframe and the first years to get the remaining data\n",
    "for index, row in olympics_data.iterrows():\n",
    "    for name, value in first_years.items():\n",
    "        if row[\"Event\"] == name and row[\"Year\"] == value and row[\"Medal\"] == \"Gold\":\n",
    "            first_golds[name] = [row[\"Year\"], row[\"Gender\"], row[\"Country\"]]"
   ]
  },
  {
   "cell_type": "code",
   "execution_count": 62,
   "metadata": {},
   "outputs": [
    {
     "data": {
      "text/html": [
       "<div>\n",
       "<style scoped>\n",
       "    .dataframe tbody tr th:only-of-type {\n",
       "        vertical-align: middle;\n",
       "    }\n",
       "\n",
       "    .dataframe tbody tr th {\n",
       "        vertical-align: top;\n",
       "    }\n",
       "\n",
       "    .dataframe thead th {\n",
       "        text-align: right;\n",
       "    }\n",
       "</style>\n",
       "<table border=\"1\" class=\"dataframe\">\n",
       "  <thead>\n",
       "    <tr style=\"text-align: right;\">\n",
       "      <th></th>\n",
       "      <th>Year</th>\n",
       "      <th>Gender</th>\n",
       "      <th>Country</th>\n",
       "    </tr>\n",
       "  </thead>\n",
       "  <tbody>\n",
       "    <tr>\n",
       "      <th>3m springboard</th>\n",
       "      <td>1976.0</td>\n",
       "      <td>Women</td>\n",
       "      <td>United States</td>\n",
       "    </tr>\n",
       "    <tr>\n",
       "      <th>10m platform</th>\n",
       "      <td>1976.0</td>\n",
       "      <td>Men</td>\n",
       "      <td>Italy</td>\n",
       "    </tr>\n",
       "    <tr>\n",
       "      <th>4x100m freestyle relay</th>\n",
       "      <td>1976.0</td>\n",
       "      <td>Women</td>\n",
       "      <td>United States</td>\n",
       "    </tr>\n",
       "    <tr>\n",
       "      <th>4x100m medley relay</th>\n",
       "      <td>1976.0</td>\n",
       "      <td>Women</td>\n",
       "      <td>East Germany</td>\n",
       "    </tr>\n",
       "    <tr>\n",
       "      <th>800m freestyle</th>\n",
       "      <td>1976.0</td>\n",
       "      <td>Women</td>\n",
       "      <td>East Germany</td>\n",
       "    </tr>\n",
       "    <tr>\n",
       "      <th>...</th>\n",
       "      <td>...</td>\n",
       "      <td>...</td>\n",
       "      <td>...</td>\n",
       "    </tr>\n",
       "    <tr>\n",
       "      <th>marathon 10km</th>\n",
       "      <td>2008.0</td>\n",
       "      <td>Men</td>\n",
       "      <td>Netherlands</td>\n",
       "    </tr>\n",
       "    <tr>\n",
       "      <th>Laser Radial - One Person Dinghy</th>\n",
       "      <td>2008.0</td>\n",
       "      <td>Women</td>\n",
       "      <td>United States</td>\n",
       "    </tr>\n",
       "    <tr>\n",
       "      <th>RS:X - Windsurfer</th>\n",
       "      <td>2008.0</td>\n",
       "      <td>Men</td>\n",
       "      <td>New Zealand</td>\n",
       "    </tr>\n",
       "    <tr>\n",
       "      <th>Finn - Heavyweight Dinghy</th>\n",
       "      <td>2008.0</td>\n",
       "      <td>Men</td>\n",
       "      <td>United Kingdom</td>\n",
       "    </tr>\n",
       "    <tr>\n",
       "      <th>Laser - One Person Dinghy</th>\n",
       "      <td>2008.0</td>\n",
       "      <td>Men</td>\n",
       "      <td>United Kingdom</td>\n",
       "    </tr>\n",
       "  </tbody>\n",
       "</table>\n",
       "<p>293 rows × 3 columns</p>\n",
       "</div>"
      ],
      "text/plain": [
       "                                    Year Gender         Country\n",
       "3m springboard                    1976.0  Women   United States\n",
       "10m platform                      1976.0    Men           Italy\n",
       "4x100m freestyle relay            1976.0  Women   United States\n",
       "4x100m medley relay               1976.0  Women    East Germany\n",
       "800m freestyle                    1976.0  Women    East Germany\n",
       "...                                  ...    ...             ...\n",
       "marathon 10km                     2008.0    Men     Netherlands\n",
       "Laser Radial - One Person Dinghy  2008.0  Women   United States\n",
       "RS:X - Windsurfer                 2008.0    Men     New Zealand\n",
       "Finn - Heavyweight Dinghy         2008.0    Men  United Kingdom\n",
       "Laser - One Person Dinghy         2008.0    Men  United Kingdom\n",
       "\n",
       "[293 rows x 3 columns]"
      ]
     },
     "execution_count": 62,
     "metadata": {},
     "output_type": "execute_result"
    }
   ],
   "source": [
    "#creating a summary dataframe\n",
    "first_gold_countries = pd.DataFrame.from_dict(first_golds, orient=\"index\", columns=[\"Year\", \"Gender\", \"Country\"])\n",
    "first_gold_countries"
   ]
  },
  {
   "cell_type": "code",
   "execution_count": 63,
   "metadata": {},
   "outputs": [
    {
     "data": {
      "image/png": "[encoded data removed]",
      "text/plain": [
       "<Figure size 1440x720 with 1 Axes>"
      ]
     },
     "metadata": {
      "needs_background": "light"
     },
     "output_type": "display_data"
    }
   ],
   "source": [
    "#group the first gold winners by country\n",
    "country_wins = first_gold_countries.groupby(\"Country\").count()[\"Year\"]\n",
    "#plot the results in a pie chart\n",
    "country_wins.plot(kind=\"bar\", x=\"country\", title=\"New Event Gold Medal Wins By Country\", figsize=(20, 10), \n",
    "                  rot=90, color=\"#d2b103\", grid=True)\n",
    "plt.ylabel(\"Number of Gold Medals\")\n",
    "\n",
    "plt.savefig(\"images/new_event_golds_by_country.png\", bbox_inches=\"tight\")\n",
    "plt.show()"
   ]
  },
  {
   "cell_type": "markdown",
   "metadata": {},
   "source": [
    "# Gender Comparison"
   ]
  },
  {
   "cell_type": "code",
   "execution_count": 64,
   "metadata": {},
   "outputs": [
    {
     "data": {
      "text/html": [
       "<div>\n",
       "<style scoped>\n",
       "    .dataframe tbody tr th:only-of-type {\n",
       "        vertical-align: middle;\n",
       "    }\n",
       "\n",
       "    .dataframe tbody tr th {\n",
       "        vertical-align: top;\n",
       "    }\n",
       "\n",
       "    .dataframe thead th {\n",
       "        text-align: right;\n",
       "    }\n",
       "</style>\n",
       "<table border=\"1\" class=\"dataframe\">\n",
       "  <thead>\n",
       "    <tr style=\"text-align: right;\">\n",
       "      <th></th>\n",
       "      <th>Total Count</th>\n",
       "      <th>Percentage of Athlete</th>\n",
       "    </tr>\n",
       "  </thead>\n",
       "  <tbody>\n",
       "    <tr>\n",
       "      <th>Men</th>\n",
       "      <td>9388</td>\n",
       "      <td>61.30%</td>\n",
       "    </tr>\n",
       "    <tr>\n",
       "      <th>Women</th>\n",
       "      <td>5928</td>\n",
       "      <td>38.70%</td>\n",
       "    </tr>\n",
       "  </tbody>\n",
       "</table>\n",
       "</div>"
      ],
      "text/plain": [
       "       Total Count Percentage of Athlete\n",
       "Men           9388                61.30%\n",
       "Women         5928                38.70%"
      ]
     },
     "execution_count": 64,
     "metadata": {},
     "output_type": "execute_result"
    }
   ],
   "source": [
    "#making a dataframe with males and females and their numbers\n",
    "gender = olympics_data[\"Gender\"].value_counts()\n",
    "total = olympics_data[\"Gender\"].count()\n",
    "gender_percent = gender/total\n",
    "#total\n",
    "df_gender = pd.DataFrame({\n",
    "    \"Total Count\" : gender,\n",
    "    \"Percentage of Athlete\" : gender_percent,})\n",
    "df_gender[\"Percentage of Athlete\"] = df_gender[\"Percentage of Athlete\"].map(('{:.2%}').format)\n",
    "\n",
    "\n",
    "df_gender"
   ]
  },
  {
   "cell_type": "code",
   "execution_count": 65,
   "metadata": {},
   "outputs": [
    {
     "data": {
      "image/png": "[encoded data removed]",
      "text/plain": [
       "<Figure size 432x288 with 1 Axes>"
      ]
     },
     "metadata": {},
     "output_type": "display_data"
    }
   ],
   "source": [
    "#pie chart for total distruption of males and females, including duplicates\n",
    "mf_count = olympics_data[\"Gender\"].value_counts()\n",
    "\n",
    "labels = [\"Males\" , \"Females\"]\n",
    "sizes = mf_count.values\n",
    "colors = [\"red\" , \"lightblue\"]\n",
    "explode = [0.1 , 0]\n",
    "\n",
    "#formatting\n",
    "def make_autopct(sizes):\n",
    "    def my_autopct(pct):\n",
    "        total = sum(sizes)\n",
    "        val = int(round(pct*total/100.0))\n",
    "        return '{p:.2f}% ({v:d})'.format(p=pct,v=val)\n",
    "    return my_autopct\n",
    "\n",
    "plt.pie(sizes, explode=explode, labels=labels, colors=colors, autopct=make_autopct(sizes),  startangle=90)\n",
    "\n",
    "plt.title(f\"Gender Comparison ({total})\")\n",
    "plt.savefig(\"images/GC_all.png\", bbox_inches=\"tight\" )\n",
    "plt.show()\n",
    "\n"
   ]
  },
  {
   "cell_type": "code",
   "execution_count": 66,
   "metadata": {},
   "outputs": [
    {
     "data": {
      "text/html": [
       "<div>\n",
       "<style scoped>\n",
       "    .dataframe tbody tr th:only-of-type {\n",
       "        vertical-align: middle;\n",
       "    }\n",
       "\n",
       "    .dataframe tbody tr th {\n",
       "        vertical-align: top;\n",
       "    }\n",
       "\n",
       "    .dataframe thead th {\n",
       "        text-align: right;\n",
       "    }\n",
       "</style>\n",
       "<table border=\"1\" class=\"dataframe\">\n",
       "  <thead>\n",
       "    <tr style=\"text-align: right;\">\n",
       "      <th></th>\n",
       "      <th>Total Count</th>\n",
       "      <th>Percentage of Athlete</th>\n",
       "    </tr>\n",
       "  </thead>\n",
       "  <tbody>\n",
       "    <tr>\n",
       "      <th>Men</th>\n",
       "      <td>7130</td>\n",
       "      <td>62.89%</td>\n",
       "    </tr>\n",
       "    <tr>\n",
       "      <th>Women</th>\n",
       "      <td>4207</td>\n",
       "      <td>37.11%</td>\n",
       "    </tr>\n",
       "  </tbody>\n",
       "</table>\n",
       "</div>"
      ],
      "text/plain": [
       "       Total Count Percentage of Athlete\n",
       "Men           7130                62.89%\n",
       "Women         4207                37.11%"
      ]
     },
     "execution_count": 66,
     "metadata": {},
     "output_type": "execute_result"
    }
   ],
   "source": [
    "#no dup on athlete name\n",
    "athlete = olympics_data.drop_duplicates([\"Athlete\"])\n",
    "#len(athlete)\n",
    "dup_gender = pd.DataFrame(athlete)\n",
    "#dup_gender\n",
    "gender_1 = dup_gender[\"Gender\"].value_counts()\n",
    "total_1 = dup_gender[\"Gender\"].count()\n",
    "gender_percent = gender_1/total_1\n",
    "#total\n",
    "gender_df = pd.DataFrame({\n",
    "    \"Total Count\" : gender_1,\n",
    "    \"Percentage of Athlete\" : gender_percent,})\n",
    "gender_df[\"Percentage of Athlete\"] = gender_df[\"Percentage of Athlete\"].map(('{:.2%}').format)\n",
    "\n",
    "\n",
    "gender_df"
   ]
  },
  {
   "cell_type": "code",
   "execution_count": 67,
   "metadata": {
    "scrolled": false
   },
   "outputs": [
    {
     "data": {
      "image/png": "[encoded data removed]",
      "text/plain": [
       "<Figure size 432x288 with 1 Axes>"
      ]
     },
     "metadata": {},
     "output_type": "display_data"
    }
   ],
   "source": [
    "#pie chart for unique athlete\n",
    "labels = [\"Males\" , \"Females\"]\n",
    "sizes = gender_1\n",
    "colors = [\"red\" , \"lightblue\"]\n",
    "explode = [0.1 , 0]\n",
    "\n",
    "#formatting\n",
    "def make_autopct(sizes):\n",
    "    def my_autopct(pct):\n",
    "        total = sum(sizes)\n",
    "        val = int(round(pct*total/100.0))\n",
    "        return '{p:.2f}% ({v:d})'.format(p=pct,v=val)\n",
    "    return my_autopct\n",
    "\n",
    "plt.pie(sizes, explode=explode, labels=labels, colors=colors, autopct=make_autopct(sizes),  startangle=90)\n",
    "\n",
    "plt.title(f\"Gender Comparison ({total_1})\")\n",
    "plt.savefig(\"images/GC_unique.png\", bbox_inches=\"tight\")\n",
    "\n",
    "plt.show()"
   ]
  },
  {
   "cell_type": "markdown",
   "metadata": {},
   "source": [
    "# Most Decorated Athlete"
   ]
  },
  {
   "cell_type": "code",
   "execution_count": 68,
   "metadata": {},
   "outputs": [
    {
     "data": {
      "text/html": [
       "<div>\n",
       "<style scoped>\n",
       "    .dataframe tbody tr th:only-of-type {\n",
       "        vertical-align: middle;\n",
       "    }\n",
       "\n",
       "    .dataframe tbody tr th {\n",
       "        vertical-align: top;\n",
       "    }\n",
       "\n",
       "    .dataframe thead th {\n",
       "        text-align: right;\n",
       "    }\n",
       "</style>\n",
       "<table border=\"1\" class=\"dataframe\">\n",
       "  <thead>\n",
       "    <tr style=\"text-align: right;\">\n",
       "      <th></th>\n",
       "      <th>Medal</th>\n",
       "      <th>Gender</th>\n",
       "      <th>Total Points</th>\n",
       "    </tr>\n",
       "    <tr>\n",
       "      <th>Athlete</th>\n",
       "      <th></th>\n",
       "      <th></th>\n",
       "      <th></th>\n",
       "    </tr>\n",
       "  </thead>\n",
       "  <tbody>\n",
       "    <tr>\n",
       "      <th>PHELPS, Michael</th>\n",
       "      <td>16</td>\n",
       "      <td>Men</td>\n",
       "      <td>44.0</td>\n",
       "    </tr>\n",
       "    <tr>\n",
       "      <th>FISCHER, Birgit</th>\n",
       "      <td>12</td>\n",
       "      <td>Women</td>\n",
       "      <td>32.0</td>\n",
       "    </tr>\n",
       "    <tr>\n",
       "      <th>THOMPSON, Jenny</th>\n",
       "      <td>12</td>\n",
       "      <td>Women</td>\n",
       "      <td>31.0</td>\n",
       "    </tr>\n",
       "    <tr>\n",
       "      <th>BIONDI, Matthew</th>\n",
       "      <td>11</td>\n",
       "      <td>Men</td>\n",
       "      <td>29.0</td>\n",
       "    </tr>\n",
       "    <tr>\n",
       "      <th>LEWIS, Carl</th>\n",
       "      <td>10</td>\n",
       "      <td>Men</td>\n",
       "      <td>29.0</td>\n",
       "    </tr>\n",
       "    <tr>\n",
       "      <th>ANDRIANOV, Nikolay</th>\n",
       "      <td>12</td>\n",
       "      <td>Men</td>\n",
       "      <td>28.0</td>\n",
       "    </tr>\n",
       "    <tr>\n",
       "      <th>TORRES, Dara</th>\n",
       "      <td>12</td>\n",
       "      <td>Women</td>\n",
       "      <td>24.0</td>\n",
       "    </tr>\n",
       "    <tr>\n",
       "      <th>HALL, Gary Jr.</th>\n",
       "      <td>10</td>\n",
       "      <td>Men</td>\n",
       "      <td>23.0</td>\n",
       "    </tr>\n",
       "    <tr>\n",
       "      <th>THORPE, Ian</th>\n",
       "      <td>9</td>\n",
       "      <td>Men</td>\n",
       "      <td>22.0</td>\n",
       "    </tr>\n",
       "    <tr>\n",
       "      <th>DITYATIN, Aleksandr</th>\n",
       "      <td>10</td>\n",
       "      <td>Men</td>\n",
       "      <td>22.0</td>\n",
       "    </tr>\n",
       "  </tbody>\n",
       "</table>\n",
       "</div>"
      ],
      "text/plain": [
       "                     Medal Gender  Total Points\n",
       "Athlete                                        \n",
       "PHELPS, Michael         16    Men          44.0\n",
       "FISCHER, Birgit         12  Women          32.0\n",
       "THOMPSON, Jenny         12  Women          31.0\n",
       "BIONDI, Matthew         11    Men          29.0\n",
       "LEWIS, Carl             10    Men          29.0\n",
       "ANDRIANOV, Nikolay      12    Men          28.0\n",
       "TORRES, Dara            12  Women          24.0\n",
       "HALL, Gary Jr.          10    Men          23.0\n",
       "THORPE, Ian              9    Men          22.0\n",
       "DITYATIN, Aleksandr     10    Men          22.0"
      ]
     },
     "execution_count": 68,
     "metadata": {},
     "output_type": "execute_result"
    }
   ],
   "source": [
    "#making a dataframe, grouping it by athlete and adding medals, points and gender to it\n",
    "top_medalist = olympics_data[[\"Athlete\" , \"Medal\"]].groupby(\"Athlete\").count()\n",
    "#print(top_medalist)\n",
    "top_medalist[\"Gender\"] = olympics_data[[\"Athlete\", \"Gender\"]].groupby(\"Athlete\").first()\n",
    "#top_medalist[\"Medal Earned\"] = olympics_data[[\"Athlete\", \"Medal\"]].groupby(\"Athlete\").sum()\n",
    "top_medalist[\"Total Points\"] = olympics_data[[\"Athlete\", \"Points\"]].groupby(\"Athlete\").sum()\n",
    "top_medalist = top_medalist.sort_values([\"Total Points\"], ascending=False)[:10]\n",
    "\n",
    "top_medalist.head(10)"
   ]
  },
  {
   "cell_type": "code",
   "execution_count": 69,
   "metadata": {},
   "outputs": [
    {
     "data": {
      "image/png": "[encoded data removed]",
      "text/plain": [
       "<Figure size 432x288 with 1 Axes>"
      ]
     },
     "metadata": {
      "needs_background": "light"
     },
     "output_type": "display_data"
    }
   ],
   "source": [
    "#medal_points = top_medalist[\"Total Points\"][:10]\n",
    "#plotting the graph of medals and points with names\n",
    "top_medalist.plot(kind = 'bar')\n",
    "plt.title(\"Most Decorated Athlete\")\n",
    "plt.ylabel(\"Total Medal Points / Medals Earned\")\n",
    "\n",
    "plt.savefig(\"images/MostDeco.png\", bbox_inches=\"tight\")"
   ]
  },
  {
   "cell_type": "code",
   "execution_count": 70,
   "metadata": {},
   "outputs": [
    {
     "data": {
      "text/html": [
       "<div>\n",
       "<style scoped>\n",
       "    .dataframe tbody tr th:only-of-type {\n",
       "        vertical-align: middle;\n",
       "    }\n",
       "\n",
       "    .dataframe tbody tr th {\n",
       "        vertical-align: top;\n",
       "    }\n",
       "\n",
       "    .dataframe thead th {\n",
       "        text-align: right;\n",
       "    }\n",
       "</style>\n",
       "<table border=\"1\" class=\"dataframe\">\n",
       "  <thead>\n",
       "    <tr style=\"text-align: right;\">\n",
       "      <th></th>\n",
       "      <th>Gold</th>\n",
       "      <th>Silver</th>\n",
       "      <th>Bronze</th>\n",
       "    </tr>\n",
       "  </thead>\n",
       "  <tbody>\n",
       "    <tr>\n",
       "      <th>PHELPS, Michael</th>\n",
       "      <td>14</td>\n",
       "      <td>0</td>\n",
       "      <td>2</td>\n",
       "    </tr>\n",
       "    <tr>\n",
       "      <th>FISCHER, Birgit</th>\n",
       "      <td>8</td>\n",
       "      <td>4</td>\n",
       "      <td>0</td>\n",
       "    </tr>\n",
       "    <tr>\n",
       "      <th>THOMPSON, Jenny</th>\n",
       "      <td>8</td>\n",
       "      <td>3</td>\n",
       "      <td>1</td>\n",
       "    </tr>\n",
       "    <tr>\n",
       "      <th>BIONDI, Matthew</th>\n",
       "      <td>8</td>\n",
       "      <td>2</td>\n",
       "      <td>1</td>\n",
       "    </tr>\n",
       "    <tr>\n",
       "      <th>LEWIS, Carl</th>\n",
       "      <td>9</td>\n",
       "      <td>1</td>\n",
       "      <td>0</td>\n",
       "    </tr>\n",
       "  </tbody>\n",
       "</table>\n",
       "</div>"
      ],
      "text/plain": [
       "                 Gold  Silver  Bronze\n",
       "PHELPS, Michael    14       0       2\n",
       "FISCHER, Birgit     8       4       0\n",
       "THOMPSON, Jenny     8       3       1\n",
       "BIONDI, Matthew     8       2       1\n",
       "LEWIS, Carl         9       1       0"
      ]
     },
     "execution_count": 70,
     "metadata": {},
     "output_type": "execute_result"
    }
   ],
   "source": [
    "#running a for loop to grab all the gold silver and bronze data into each index of names\n",
    "name_list = top_medalist.index\n",
    "\n",
    "rough_dict = {}\n",
    "for name in name_list:\n",
    "    rough_dict[name] = {'Gold': 0, 'Silver': 0, 'Bronze': 0}\n",
    "    olympian = olympics_data[olympics_data['Athlete'] == name]\n",
    "    for  index, value in olympian.iterrows():\n",
    "        if 'gold' in value['Medal'].lower():\n",
    "            rough_dict[name]['Gold'] += 1\n",
    "            continue\n",
    "        if 'silver' in value['Medal'].lower():\n",
    "            rough_dict[name]['Silver'] += 1\n",
    "            continue\n",
    "        if 'bronze' in value['Medal'].lower():\n",
    "            rough_dict[name]['Bronze'] += 1\n",
    "            continue\n",
    "athlete_medal = pd.DataFrame.from_dict(rough_dict).T\n",
    "athlete_medal.head()"
   ]
  },
  {
   "cell_type": "code",
   "execution_count": 71,
   "metadata": {},
   "outputs": [
    {
     "data": {
      "image/png": "[encoded data removed]",
      "text/plain": [
       "<Figure size 432x288 with 1 Axes>"
      ]
     },
     "metadata": {
      "needs_background": "light"
     },
     "output_type": "display_data"
    }
   ],
   "source": [
    "#athlete_medal.plot(kind = 'bar')\n",
    "name = np.array(range(len(athlete_medal)))\n",
    "gold = athlete_medal[\"Gold\"]\n",
    "silver = athlete_medal[\"Silver\"]\n",
    "bronze = athlete_medal[\"Bronze\"]\n",
    "width = 0.275\n",
    "#plotting the graph with color coding\n",
    "plt.bar(name + width, gold, width=width, color=\"#d2b103\", label=\"Gold Medals\")\n",
    "plt.bar(name, silver, width=width, color=\"#c9c8c4\", label=\"Silver Medals\")\n",
    "plt.bar(name - width, bronze, width=width, color=\"#8b8251\", label=\"Bronze Medals\")\n",
    "plt.xticks(name, athlete_medal.index, rotation=90)\n",
    "plt.title(\"Most Decorated Athlete\")\n",
    "plt.xlabel(\"Athlete\")\n",
    "plt.ylabel(\"Medal Earned\")\n",
    "plt.legend()\n",
    "\n",
    "plt.savefig(\"images/MostDeco_medal.png\", bbox_inches=\"tight\")"
   ]
  },
  {
   "cell_type": "code",
   "execution_count": 72,
   "metadata": {},
   "outputs": [
    {
     "data": {
      "text/html": [
       "<div>\n",
       "<style scoped>\n",
       "    .dataframe tbody tr th:only-of-type {\n",
       "        vertical-align: middle;\n",
       "    }\n",
       "\n",
       "    .dataframe tbody tr th {\n",
       "        vertical-align: top;\n",
       "    }\n",
       "\n",
       "    .dataframe thead th {\n",
       "        text-align: right;\n",
       "    }\n",
       "</style>\n",
       "<table border=\"1\" class=\"dataframe\">\n",
       "  <thead>\n",
       "    <tr style=\"text-align: right;\">\n",
       "      <th></th>\n",
       "      <th>City</th>\n",
       "      <th>Year</th>\n",
       "      <th>Sport</th>\n",
       "      <th>Discipline</th>\n",
       "      <th>Event</th>\n",
       "      <th>Athlete</th>\n",
       "      <th>Gender</th>\n",
       "      <th>Country_Code</th>\n",
       "      <th>Country</th>\n",
       "      <th>Event_gender</th>\n",
       "      <th>Medal</th>\n",
       "    </tr>\n",
       "  </thead>\n",
       "  <tbody>\n",
       "    <tr>\n",
       "      <th>0</th>\n",
       "      <td>Montreal</td>\n",
       "      <td>1976.0</td>\n",
       "      <td>Aquatics</td>\n",
       "      <td>Diving</td>\n",
       "      <td>3m springboard</td>\n",
       "      <td>KÖHLER, Christa</td>\n",
       "      <td>Women</td>\n",
       "      <td>GDR</td>\n",
       "      <td>East Germany</td>\n",
       "      <td>W</td>\n",
       "      <td>Silver</td>\n",
       "    </tr>\n",
       "    <tr>\n",
       "      <th>1</th>\n",
       "      <td>Montreal</td>\n",
       "      <td>1976.0</td>\n",
       "      <td>Aquatics</td>\n",
       "      <td>Diving</td>\n",
       "      <td>3m springboard</td>\n",
       "      <td>KOSENKOV, Aleksandr</td>\n",
       "      <td>Men</td>\n",
       "      <td>URS</td>\n",
       "      <td>Soviet Union</td>\n",
       "      <td>M</td>\n",
       "      <td>Bronze</td>\n",
       "    </tr>\n",
       "    <tr>\n",
       "      <th>2</th>\n",
       "      <td>Montreal</td>\n",
       "      <td>1976.0</td>\n",
       "      <td>Aquatics</td>\n",
       "      <td>Diving</td>\n",
       "      <td>3m springboard</td>\n",
       "      <td>BOGGS, Philip George</td>\n",
       "      <td>Men</td>\n",
       "      <td>USA</td>\n",
       "      <td>United States</td>\n",
       "      <td>M</td>\n",
       "      <td>Gold</td>\n",
       "    </tr>\n",
       "    <tr>\n",
       "      <th>3</th>\n",
       "      <td>Montreal</td>\n",
       "      <td>1976.0</td>\n",
       "      <td>Aquatics</td>\n",
       "      <td>Diving</td>\n",
       "      <td>3m springboard</td>\n",
       "      <td>CAGNOTTO, Giorgio Franco</td>\n",
       "      <td>Men</td>\n",
       "      <td>ITA</td>\n",
       "      <td>Italy</td>\n",
       "      <td>M</td>\n",
       "      <td>Silver</td>\n",
       "    </tr>\n",
       "    <tr>\n",
       "      <th>4</th>\n",
       "      <td>Montreal</td>\n",
       "      <td>1976.0</td>\n",
       "      <td>Aquatics</td>\n",
       "      <td>Diving</td>\n",
       "      <td>10m platform</td>\n",
       "      <td>WILSON, Deborah Keplar</td>\n",
       "      <td>Women</td>\n",
       "      <td>USA</td>\n",
       "      <td>United States</td>\n",
       "      <td>W</td>\n",
       "      <td>Bronze</td>\n",
       "    </tr>\n",
       "  </tbody>\n",
       "</table>\n",
       "</div>"
      ],
      "text/plain": [
       "       City    Year     Sport Discipline           Event  \\\n",
       "0  Montreal  1976.0  Aquatics     Diving  3m springboard   \n",
       "1  Montreal  1976.0  Aquatics     Diving  3m springboard   \n",
       "2  Montreal  1976.0  Aquatics     Diving  3m springboard   \n",
       "3  Montreal  1976.0  Aquatics     Diving  3m springboard   \n",
       "4  Montreal  1976.0  Aquatics     Diving    10m platform   \n",
       "\n",
       "                    Athlete Gender Country_Code        Country Event_gender  \\\n",
       "0           KÖHLER, Christa  Women          GDR   East Germany            W   \n",
       "1       KOSENKOV, Aleksandr    Men          URS   Soviet Union            M   \n",
       "2      BOGGS, Philip George    Men          USA  United States            M   \n",
       "3  CAGNOTTO, Giorgio Franco    Men          ITA          Italy            M   \n",
       "4    WILSON, Deborah Keplar  Women          USA  United States            W   \n",
       "\n",
       "    Medal  \n",
       "0  Silver  \n",
       "1  Bronze  \n",
       "2    Gold  \n",
       "3  Silver  \n",
       "4  Bronze  "
      ]
     },
     "execution_count": 72,
     "metadata": {},
     "output_type": "execute_result"
    }
   ],
   "source": [
    "#load in csv\n",
    "olympics_data = pd.read_csv(\"Summer-Olympic-medals-1976-to-2008.csv\", encoding=\"latin-1\")\n",
    "olympics_data.head()"
   ]
  },
  {
   "cell_type": "code",
   "execution_count": 73,
   "metadata": {},
   "outputs": [],
   "source": [
    "# Assign Medal Counts\n",
    "medal_dict = {'Gold':3,'Silver':2,'Bronze':1}\n",
    "olympics_data['Points'] = olympics_data['Medal'].map(medal_dict)"
   ]
  },
  {
   "cell_type": "code",
   "execution_count": 74,
   "metadata": {},
   "outputs": [],
   "source": [
    "# Load in Host Country CSV, merge with Olympics Data Frame\n",
    "host_country_df = pd.read_csv('resources/Host_Countries.csv')\n",
    "host_country_df = host_country_df[['Year','Country']]\n",
    "host_country_df.rename(columns={'Country':'Host Country'},inplace=True)\n",
    "olympics_data = olympics_data.merge(host_country_df,on='Year')"
   ]
  },
  {
   "cell_type": "code",
   "execution_count": 75,
   "metadata": {},
   "outputs": [],
   "source": [
    "# Get pt Total DF by year\n",
    "pt_total_df = olympics_data.groupby('Year').sum()"
   ]
  },
  {
   "cell_type": "code",
   "execution_count": 76,
   "metadata": {},
   "outputs": [],
   "source": [
    "# Find Host Years and Host City, Country\n",
    "\n",
    "host_years = olympics_data['Year'].unique()\n",
    "\n",
    "year_countries_dict = {}\n",
    "for i in host_years:\n",
    "    if i == 1988.0:\n",
    "        year_countries_dict[i] = 'Korea, South'\n",
    "    elif i == 1980.0:\n",
    "        year_countries_dict[i] = 'Soviet Union'\n",
    "    else:\n",
    "        year_countries_dict[i] = olympics_data[olympics_data['Year']==i]['Host Country'].unique()[0]\n",
    "        \n",
    "# Create DF with only host countries\n",
    "\n",
    "host_countries = []\n",
    "for k,v in year_countries_dict.items():\n",
    "    host_countries.append(v)\n",
    "\n",
    "host_df = olympics_data[olympics_data['Country'].isin(host_countries)]\n",
    "\n",
    "# Build Data Frame with a Year index and Host Country Point Totals as Columns\n",
    "\n",
    "frame = pd.DataFrame(index=host_years)\n",
    "\n",
    "for year in host_years:\n",
    "    country = year_countries_dict[year]\n",
    "\n",
    "    to_add = host_df[host_df['Country']==country].groupby('Year').sum()\n",
    "    to_add.rename(columns={'Points':country},level=0,inplace=True)\n",
    "    frame = frame.merge(to_add,how='outer',left_index=True,right_index=True)\n",
    "\n",
    "frame.rename(columns={'United States_x':'United States'},inplace=True)\n",
    "frame = frame[['Canada','Soviet Union','United States','Korea, South','Spain','Australia','Greece','China']]"
   ]
  },
  {
   "cell_type": "code",
   "execution_count": 77,
   "metadata": {},
   "outputs": [],
   "source": [
    "# Get Soviet Union/Russia Point Totals. Fill DF\n",
    "\n",
    "sov_union = olympics_data[olympics_data['Country']=='Soviet Union'].groupby('Year').sum()\n",
    "russia = olympics_data[olympics_data['Country']=='Russia'].groupby('Year').sum()\n",
    "unif_team = olympics_data[olympics_data['Country']=='Unified team'].groupby('Year').sum()\n",
    "\n",
    "sov_union_russia = sov_union.append(russia)\n",
    "sov_union_russia = sov_union_russia.append(unif_team)\n",
    "sov_union_russia = sov_union_russia.sort_index()\n",
    "\n",
    "l = sov_union_russia['Points'].values\n",
    "sov_rus_pts = []\n",
    "\n",
    "for i in range(2):\n",
    "    sov_rus_pts.append(float(l[i]))\n",
    "sov_rus_pts.append(np.nan)\n",
    "for i in range(2,8):\n",
    "    sov_rus_pts.append(float(l[i]))\n",
    "\n",
    "frame['Soviet Union/Russia'] = sov_rus_pts\n",
    "\n",
    "frame = frame[['Canada', 'Soviet Union/Russia', 'United States', 'Korea, South', 'Spain',\n",
    "       'Australia', 'Greece', 'China']]"
   ]
  },
  {
   "cell_type": "code",
   "execution_count": 78,
   "metadata": {},
   "outputs": [
    {
     "data": {
      "text/html": [
       "<div>\n",
       "<style scoped>\n",
       "    .dataframe tbody tr th:only-of-type {\n",
       "        vertical-align: middle;\n",
       "    }\n",
       "\n",
       "    .dataframe tbody tr th {\n",
       "        vertical-align: top;\n",
       "    }\n",
       "\n",
       "    .dataframe thead th {\n",
       "        text-align: right;\n",
       "    }\n",
       "</style>\n",
       "<table border=\"1\" class=\"dataframe\">\n",
       "  <thead>\n",
       "    <tr style=\"text-align: right;\">\n",
       "      <th></th>\n",
       "      <th>Canada</th>\n",
       "      <th>Soviet Union/Russia</th>\n",
       "      <th>United States</th>\n",
       "      <th>Korea, South</th>\n",
       "      <th>Spain</th>\n",
       "      <th>Australia</th>\n",
       "      <th>Greece</th>\n",
       "      <th>China</th>\n",
       "    </tr>\n",
       "  </thead>\n",
       "  <tbody>\n",
       "    <tr>\n",
       "      <th>1976.0</th>\n",
       "      <td>28.0</td>\n",
       "      <td>604.0</td>\n",
       "      <td>337.0</td>\n",
       "      <td>20.0</td>\n",
       "      <td>12.0</td>\n",
       "      <td>40.0</td>\n",
       "      <td>NaN</td>\n",
       "      <td>NaN</td>\n",
       "    </tr>\n",
       "    <tr>\n",
       "      <th>1980.0</th>\n",
       "      <td>NaN</td>\n",
       "      <td>953.0</td>\n",
       "      <td>NaN</td>\n",
       "      <td>NaN</td>\n",
       "      <td>47.0</td>\n",
       "      <td>24.0</td>\n",
       "      <td>7.0</td>\n",
       "      <td>NaN</td>\n",
       "    </tr>\n",
       "    <tr>\n",
       "      <th>1984.0</th>\n",
       "      <td>159.0</td>\n",
       "      <td>NaN</td>\n",
       "      <td>784.0</td>\n",
       "      <td>83.0</td>\n",
       "      <td>37.0</td>\n",
       "      <td>78.0</td>\n",
       "      <td>3.0</td>\n",
       "      <td>141.0</td>\n",
       "    </tr>\n",
       "    <tr>\n",
       "      <th>1988.0</th>\n",
       "      <td>34.0</td>\n",
       "      <td>627.0</td>\n",
       "      <td>411.0</td>\n",
       "      <td>170.0</td>\n",
       "      <td>9.0</td>\n",
       "      <td>76.0</td>\n",
       "      <td>1.0</td>\n",
       "      <td>81.0</td>\n",
       "    </tr>\n",
       "    <tr>\n",
       "      <th>1992.0</th>\n",
       "      <td>103.0</td>\n",
       "      <td>472.0</td>\n",
       "      <td>452.0</td>\n",
       "      <td>110.0</td>\n",
       "      <td>174.0</td>\n",
       "      <td>112.0</td>\n",
       "      <td>6.0</td>\n",
       "      <td>165.0</td>\n",
       "    </tr>\n",
       "    <tr>\n",
       "      <th>1996.0</th>\n",
       "      <td>98.0</td>\n",
       "      <td>232.0</td>\n",
       "      <td>628.0</td>\n",
       "      <td>135.0</td>\n",
       "      <td>136.0</td>\n",
       "      <td>212.0</td>\n",
       "      <td>20.0</td>\n",
       "      <td>222.0</td>\n",
       "    </tr>\n",
       "    <tr>\n",
       "      <th>2000.0</th>\n",
       "      <td>43.0</td>\n",
       "      <td>388.0</td>\n",
       "      <td>574.0</td>\n",
       "      <td>123.0</td>\n",
       "      <td>69.0</td>\n",
       "      <td>372.0</td>\n",
       "      <td>32.0</td>\n",
       "      <td>180.0</td>\n",
       "    </tr>\n",
       "    <tr>\n",
       "      <th>2004.0</th>\n",
       "      <td>33.0</td>\n",
       "      <td>335.0</td>\n",
       "      <td>571.0</td>\n",
       "      <td>108.0</td>\n",
       "      <td>50.0</td>\n",
       "      <td>333.0</td>\n",
       "      <td>65.0</td>\n",
       "      <td>225.0</td>\n",
       "    </tr>\n",
       "    <tr>\n",
       "      <th>2008.0</th>\n",
       "      <td>69.0</td>\n",
       "      <td>273.0</td>\n",
       "      <td>674.0</td>\n",
       "      <td>171.0</td>\n",
       "      <td>133.0</td>\n",
       "      <td>253.0</td>\n",
       "      <td>10.0</td>\n",
       "      <td>385.0</td>\n",
       "    </tr>\n",
       "  </tbody>\n",
       "</table>\n",
       "</div>"
      ],
      "text/plain": [
       "        Canada  Soviet Union/Russia  United States  Korea, South  Spain  \\\n",
       "1976.0    28.0                604.0          337.0          20.0   12.0   \n",
       "1980.0     NaN                953.0            NaN           NaN   47.0   \n",
       "1984.0   159.0                  NaN          784.0          83.0   37.0   \n",
       "1988.0    34.0                627.0          411.0         170.0    9.0   \n",
       "1992.0   103.0                472.0          452.0         110.0  174.0   \n",
       "1996.0    98.0                232.0          628.0         135.0  136.0   \n",
       "2000.0    43.0                388.0          574.0         123.0   69.0   \n",
       "2004.0    33.0                335.0          571.0         108.0   50.0   \n",
       "2008.0    69.0                273.0          674.0         171.0  133.0   \n",
       "\n",
       "        Australia  Greece  China  \n",
       "1976.0       40.0     NaN    NaN  \n",
       "1980.0       24.0     7.0    NaN  \n",
       "1984.0       78.0     3.0  141.0  \n",
       "1988.0       76.0     1.0   81.0  \n",
       "1992.0      112.0     6.0  165.0  \n",
       "1996.0      212.0    20.0  222.0  \n",
       "2000.0      372.0    32.0  180.0  \n",
       "2004.0      333.0    65.0  225.0  \n",
       "2008.0      253.0    10.0  385.0  "
      ]
     },
     "execution_count": 78,
     "metadata": {},
     "output_type": "execute_result"
    }
   ],
   "source": [
    "frame"
   ]
  },
  {
   "cell_type": "code",
   "execution_count": 79,
   "metadata": {},
   "outputs": [
    {
     "data": {
      "image/png": "[encoded data removed]",
      "text/plain": [
       "<Figure size 1080x360 with 1 Axes>"
      ]
     },
     "metadata": {
      "needs_background": "light"
     },
     "output_type": "display_data"
    }
   ],
   "source": [
    "# Boxplot by Host Country\n",
    "\n",
    "x = ['Canada', 'Soviet Union/Russia', 'United States', 'Korea, South', 'Spain',\n",
    "       'Australia', 'Greece', 'China']\n",
    "y = [28,953,784,628,170,174,372,65,385]\n",
    "\n",
    "frame[frame.columns].plot(kind='box',figsize=(15,5))\n",
    "plt.title('Medal Point Performance Box Plot Highlighted by Host Year')\n",
    "plt.ylabel('Medal Points Awarded')\n",
    "# plt.xlabel('Host Countries from 1976 - 2008')\n",
    "plt.plot([1,2,3,3,4,5,6,7,8],y,'bo')\n",
    "\n",
    "plt.legend(labels='O'[0],title='Year Hosted');\n",
    "\n",
    "plt.savefig('images/Host_Country_Box_Plot.png',bbox_inches='tight')"
   ]
  },
  {
   "cell_type": "code",
   "execution_count": 80,
   "metadata": {},
   "outputs": [],
   "source": [
    "# Geographical Plotting\n",
    "\n",
    "host_country_df['City'] = olympics_data['City'].unique()\n",
    "host_country_df['Search'] = host_country_df['City']+', '+host_country_df['Host Country']\n",
    "\n",
    "# Get Lat and Long\n",
    "\n",
    "from config import g_key\n",
    "\n",
    "city_dict = {}\n",
    "\n",
    "search_items = []\n",
    "for i in host_country_df['Search'].values:\n",
    "    search_items.append(i)\n",
    "\n",
    "# Build URL using the Google Maps API\n",
    "base_url = \"https://maps.googleapis.com/maps/api/geocode/json\"\n",
    "\n",
    "for item in search_items:\n",
    "    \n",
    "    params = {\"address\": item, \"key\": g_key}\n",
    "    \n",
    "    response = requests.get(base_url, params=params)\n",
    "\n",
    "    geo = response.json()\n",
    "\n",
    "    lat = geo[\"results\"][0][\"geometry\"][\"location\"][\"lat\"]\n",
    "    lng = geo[\"results\"][0][\"geometry\"][\"location\"][\"lng\"]\n",
    "\n",
    "    city_dict[item] = (lat,lng)\n",
    "    \n",
    "# Build Lat and Lng in DataFrame\n",
    "\n",
    "host_country_df['LAT'] = host_country_df['Search'].apply(lambda x: city_dict[x][0])\n",
    "host_country_df['LNG'] = host_country_df['Search'].apply(lambda x: city_dict[x][1])"
   ]
  },
  {
   "cell_type": "code",
   "execution_count": 81,
   "metadata": {},
   "outputs": [],
   "source": [
    "# Find Missing Years\n",
    "\n",
    "missing_years = {'Canada':[], 'Soviet Union/Russia':[], 'United States':[], 'Korea, South':[],\n",
    "       'Spain':[], 'Australia':[], 'Greece':[], 'China':[]}\n",
    "\n",
    "for k in missing_years:\n",
    "    try:\n",
    "        y = frame[frame[k].isna()==True][k].index[0]\n",
    "        missing_years[k].append(y)\n",
    "    except:\n",
    "        pass"
   ]
  },
  {
   "cell_type": "code",
   "execution_count": 82,
   "metadata": {},
   "outputs": [],
   "source": [
    "# Inport new dependencies\n",
    "\n",
    "import math\n",
    "import gmaps"
   ]
  },
  {
   "cell_type": "code",
   "execution_count": 83,
   "metadata": {},
   "outputs": [],
   "source": [
    "# Build Function to Calc Weights for Heat Map\n",
    "\n",
    "def Build_weights(country_select='United States',metric='average'):\n",
    "    \n",
    "    country_points = []\n",
    "\n",
    "    country_mean = frame[country_select].mean()\n",
    "\n",
    "    for pts in frame[country_select]:\n",
    "        country_points.append(pts)\n",
    "\n",
    "    weight = []\n",
    "\n",
    "    if metric == 'average':\n",
    "\n",
    "        met = frame[country_select].mean()\n",
    "\n",
    "        for i in range(9):\n",
    "            if math.isnan(country_points[i])==True:\n",
    "                met = .01\n",
    "                weight.append(met)\n",
    "            else:\n",
    "                met = (country_points[i]/country_mean)*100\n",
    "                weight.append(met)\n",
    "\n",
    "    if metric == 'percent':\n",
    "        count = olympics_data.groupby('Year').sum()\n",
    "\n",
    "        d = count.to_dict()\n",
    "        d = d['Points'].values()\n",
    "        avges = []\n",
    "        for i in d:\n",
    "            avges.append(i)\n",
    "\n",
    "        for i in range(9):\n",
    "            if math.isnan(country_points[i])==True:\n",
    "                met = .01\n",
    "                weight.append(met)\n",
    "            else:\n",
    "                met = (country_points[i]/avges[i])*100\n",
    "                weight.append(met)\n",
    "                    \n",
    "    return weight"
   ]
  },
  {
   "cell_type": "code",
   "execution_count": 84,
   "metadata": {},
   "outputs": [
    {
     "data": {
      "application/vnd.jupyter.widget-view+json": {
       "model_id": "5a8350d6cbc346d49487891a177f685c",
       "version_major": 2,
       "version_minor": 0
      },
      "text/plain": [
       "Figure(layout=FigureLayout(height='420px'))"
      ]
     },
     "metadata": {},
     "output_type": "display_data"
    }
   ],
   "source": [
    "# Show Heatmap of Host Country Point Totals\n",
    "# Get Country and Weight Method\n",
    "\n",
    "# ability for user to input which country and metric for heatmap\n",
    "# country_select = input('What Host Country: ')\n",
    "# metric = input('(percent) or (average)')\n",
    "\n",
    "# Find point index from country average or point index from year's points available\n",
    "weight = Build_weights()\n",
    "\n",
    "# Build Map         \n",
    "            \n",
    "gmaps.configure(api_key=g_key)\n",
    "locations = host_country_df[[\"LAT\", \"LNG\"]]\n",
    "\n",
    "\n",
    "# Plot Heatmap\n",
    "fig = gmaps.figure()\n",
    "fig.figzize=(15,5)\n",
    "\n",
    "# Create heat layer\n",
    "\n",
    "heat_layer = gmaps.heatmap_layer(locations, weights=weight,\n",
    "                                 dissipating=False, max_intensity=max(weight),\n",
    "                                 point_radius=5)\n",
    "\n",
    "# Add layer\n",
    "fig.add_layer(heat_layer)\n",
    "\n",
    "# Display figure\n",
    "\n",
    "fig"
   ]
  },
  {
   "cell_type": "code",
   "execution_count": null,
   "metadata": {},
   "outputs": [],
   "source": []
  }
 ],
 "metadata": {
  "kernelspec": {
   "display_name": "Python 3",
   "language": "python",
   "name": "python3"
  },
  "language_info": {
   "codemirror_mode": {
    "name": "ipython",
    "version": 3
   },
   "file_extension": ".py",
   "mimetype": "text/x-python",
   "name": "python",
   "nbconvert_exporter": "python",
   "pygments_lexer": "ipython3",
   "version": "3.6.10"
  }
 },
 "nbformat": 4,
 "nbformat_minor": 4
}
